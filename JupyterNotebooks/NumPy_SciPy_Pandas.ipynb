{
 "cells": [
  {
   "cell_type": "markdown",
   "metadata": {},
   "source": [
    "# NumPy, SciPy and Pandas\n",
    "\n",
    "Each of these modules could be the topic of a semester-long course, and we will not get into the details of them. \n",
    "\n",
    "One fundemental concept I want to convey is well summarized in this quote from the [SciPy Getting Started page](https://www.scipy.org/getting-started.html):\n",
    "\n",
    "> Don’t reinvent the wheel, there may already be a pre-made solution for your problem.\n",
    "\n",
    "To some extent, this can apply to every module. There are certainly other modules that we could cover--[**BioPython**](https://biopython.org/) being one that I highly recommend you check out. As I've stated, Python is somewhat intentionally stripped down, with limited built-in functionality. But a lot of functionality has been added with modules--**make use of them!** \n",
    "\n",
    "Whatever you plan to do with Python, take some time to look into what modules are available to help you. Don't reinvent the wheel!\n",
    "\n",
    "## Here are the general features of these modules\n",
    "\n",
    "\n",
    "**NumPy** provides array and matrix data types for Python as well as efficient mathematical tools for working with these data types. If your work involves numerical computations, especially matrix manipulations, NumPy is your tool! \n",
    "\n",
    "**SciPy** adds additional tools for integration, diffential equations, optimization, and more. Many mathematically-based scientific computations benefit from SciPy.\n",
    "\n",
    "**Pandas** provides data frames for Python. Data frames are a table representation of data where columns and rows can be named (indexed). Tabular data can be analyzed without data frames, but Pandas and data frames simplify data analysis, and form the foundation of a lot of data science work.\n"
   ]
  },
  {
   "cell_type": "markdown",
   "metadata": {},
   "source": [
    "## NumPy Array and Matrix\n",
    "\n",
    "While lists can do a lot, NumPy offers robust support for array and matrices and the math associated with them.\n",
    "\n",
    "One thing we haven't seen yet, is the `import as` construct. We could just `import numpy`, but then when we use a NumPy function, we'd have to type, for example, `numpy.array([6, 7, 8])`. If we instead `import numpy as np`, we make a shorthand and can call array with `np.array([6, 7, 8])`--a few letters shorted each time we type it."
   ]
  },
  {
   "cell_type": "code",
   "execution_count": 1,
   "metadata": {},
   "outputs": [
    {
     "name": "stdout",
     "output_type": "stream",
     "text": [
      "<class 'numpy.ndarray'>\n",
      "[6 7 8]\n"
     ]
    }
   ],
   "source": [
    "import numpy as np\n",
    "\n",
    "my_array=np.array([6, 7, 8])  # Make an array, show type and print it.\n",
    "print(type(my_array))\n",
    "print(my_array)"
   ]
  },
  {
   "cell_type": "code",
   "execution_count": 2,
   "metadata": {},
   "outputs": [
    {
     "data": {
      "text/plain": [
       "array([[ 0,  1,  2],\n",
       "       [ 3,  4,  5],\n",
       "       [ 6,  7,  8],\n",
       "       [ 9, 10, 11],\n",
       "       [12, 13, 14]])"
      ]
     },
     "execution_count": 2,
     "metadata": {},
     "output_type": "execute_result"
    }
   ],
   "source": [
    "matrix = np.arange(15).reshape(5, 3)  # Make 5X3 matrix\n",
    "matrix"
   ]
  },
  {
   "cell_type": "code",
   "execution_count": 3,
   "metadata": {},
   "outputs": [
    {
     "data": {
      "text/plain": [
       "array([[6],\n",
       "       [7],\n",
       "       [8]])"
      ]
     },
     "execution_count": 3,
     "metadata": {},
     "output_type": "execute_result"
    }
   ],
   "source": [
    "my_array.reshape(3,1)  # Reshape the array to be a vector with 3 rows, 1 column"
   ]
  },
  {
   "cell_type": "code",
   "execution_count": 4,
   "metadata": {},
   "outputs": [
    {
     "data": {
      "text/plain": [
       "array([[  0,   7,  16],\n",
       "       [ 18,  28,  40],\n",
       "       [ 36,  49,  64],\n",
       "       [ 54,  70,  88],\n",
       "       [ 72,  91, 112]])"
      ]
     },
     "execution_count": 4,
     "metadata": {},
     "output_type": "execute_result"
    }
   ],
   "source": [
    "prod=my_array * matrix  # Matrix multiplication\n",
    "prod"
   ]
  },
  {
   "cell_type": "markdown",
   "metadata": {},
   "source": [
    "We could keep going, but would quickly get to the end of my matrix math understanding! But there a functions to make matrixes with 1s on the diagonals, transpose matrices, calculate eigenvectors, etc."
   ]
  },
  {
   "cell_type": "markdown",
   "metadata": {},
   "source": [
    "## SciPy\n",
    "\n",
    "The example here is from the [SciPy Getting Started page](https://www.scipy.org/getting-started.html). I am not concerned about the details. First the demo:"
   ]
  },
  {
   "cell_type": "code",
   "execution_count": 5,
   "metadata": {},
   "outputs": [
    {
     "name": "stdout",
     "output_type": "stream",
     "text": [
      "[  0.00000000e+00   2.00040008e-03   4.00080016e-03 ...,   9.99599920e+00\n",
      "   9.99799960e+00   1.00000000e+01]\n"
     ]
    }
   ],
   "source": [
    "from scipy import special, optimize\n",
    "\n",
    "f = lambda x: -special.jv(3, x)\n",
    "sol = optimize.minimize(f, 1.0)\n",
    "x = np.linspace(0, 10, 5000)\n",
    "print(x)\n"
   ]
  },
  {
   "cell_type": "markdown",
   "metadata": {},
   "source": [
    "We'll need the `pyplot` funtion of `matplotlib` to plot the graph."
   ]
  },
  {
   "cell_type": "code",
   "execution_count": 6,
   "metadata": {},
   "outputs": [
    {
     "data": {
      "image/png": "[encoded data removed]",
      "text/plain": [
       "<matplotlib.figure.Figure at 0x1045de780>"
      ]
     },
     "metadata": {},
     "output_type": "display_data"
    }
   ],
   "source": [
    "import matplotlib.pyplot as plt\n",
    "fig, ax = plt.subplots()\n",
    "ax.plot(x, special.jv(3, x), '-', sol.x, -sol.fun, 'o')\n",
    "plt.show()\n"
   ]
  },
  {
   "cell_type": "markdown",
   "metadata": {},
   "source": [
    "Looks good...maybe useful...\n",
    "\n",
    "But really, I wanted to show you the script on the same page:\n",
    "\n",
    "```python\n",
    "\n",
    "\"\"\"example.py\n",
    "\n",
    "Compute the maximum of a Bessel function and plot it.\n",
    "\n",
    "\"\"\"\n",
    "import argparse\n",
    "\n",
    "import numpy as np\n",
    "from scipy import special, optimize\n",
    "import matplotlib.pyplot as plt\n",
    "\n",
    "def main():\n",
    "    # Parse command-line arguments\n",
    "    parser = argparse.ArgumentParser(usage=__doc__)\n",
    "    parser.add_argument(\"--order\", type=int, default=3, help=\"order of Bessel function\")\n",
    "    parser.add_argument(\"--output\", default=\"plot.png\", help=\"output image file\")\n",
    "    args = parser.parse_args()\n",
    "\n",
    "    # Compute maximum\n",
    "    f = lambda x: -special.jv(args.order, x)\n",
    "    sol = optimize.minimize(f, 1.0)\n",
    "\n",
    "    # Plot\n",
    "    x = np.linspace(0, 10, 5000)\n",
    "    plt.plot(x, special.jv(args.order, x), '-', sol.x, -sol.fun, 'o')\n",
    "\n",
    "    # Produce output\n",
    "    plt.savefig(args.output, dpi=96)\n",
    "\n",
    "if __name__ == \"__main__\":\n",
    "    main()\n",
    "    \n",
    "```\n",
    "\n",
    "And really all I wanted to talk about was the last couple of lines:\n",
    "\n",
    "```python\n",
    "if __name__ == \"__main__\":\n",
    "    main()\n",
    "```\n"
   ]
  },
  {
   "cell_type": "markdown",
   "metadata": {},
   "source": [
    "### `if __name__ == \"__main__\":`\n",
    "\n",
    "I want to show you this because it is common and also a bit confusing if you don't understand it.\n",
    "\n",
    "`__name__` is a variable that Python uses to tell if the code is being launched from the command line, or has been called as a function. Let's use an addition function from earlier as an example:"
   ]
  },
  {
   "cell_type": "code",
   "execution_count": 8,
   "metadata": {},
   "outputs": [
    {
     "name": "stdout",
     "output_type": "stream",
     "text": [
      "Please type one number:5\n",
      "Please type another number:8\n",
      "5.0 + 8.0 = 13.0\n"
     ]
    }
   ],
   "source": [
    "def add_two(a,b):\n",
    "    c=a+b\n",
    "    return c\n",
    "\n",
    "num1=float(input(\"Please type one number:\"))\n",
    "num2=float(input(\"Please type another number:\"))\n",
    "\n",
    "print(num1, \"+\", num2,\"=\", add_two(num1,num2))"
   ]
  },
  {
   "cell_type": "markdown",
   "metadata": {},
   "source": [
    "Note that I haven't added all the good `try:`/`except:` and other cool stuff to make this more robust, but whatever...\n",
    "\n",
    "Now, let's imaging `add_two` is the most amazing function ever written and in our next script we realize that we want to use the `add_two` function.\n",
    "\n",
    "Let's save the above to a file called `add_two_prompt.py`, and run it on the command line:\n",
    "\n",
    "```\n",
    "$ python3 add_two_prompt.py \n",
    "Please type one number:4\n",
    "Please type another number:5\n",
    "4.0 + 5.0 = 9.0\n",
    "```\n",
    "Works...\n",
    "\n",
    "And now we can import it:"
   ]
  },
  {
   "cell_type": "code",
   "execution_count": 9,
   "metadata": {},
   "outputs": [],
   "source": [
    "import add_two_prompt"
   ]
  },
  {
   "cell_type": "markdown",
   "metadata": {},
   "source": [
    "But as soon as we import the add_two_prompt script, the script is run, prompting the user for the numbers and calling the function! That probably isn't what we want!\n",
    "\n",
    "We want to import the function and be able to run it with two numbers. We don't want to prompt the user for numbers, we just want to be able to call the function.\n",
    "\n",
    "We could edit the add_two_prompt script to remove the part about prompting the user for numbers, but that would break that neat functionality.\n",
    "\n",
    "What we want is to only prompt the user for numbers when we run the script from the command line, but otherwise, we just want to add the add_two function to our toolbox.\n",
    "\n",
    "The way to do that is with the `if __name__ == \"__main__\":`\n",
    "\n",
    "Let's change the script to look like:\n",
    "\n",
    "```python\n",
    "#!/usr/bin/env python3\n",
    "\n",
    "def add_two(a,b):\n",
    "    c=a+b\n",
    "    return c\n",
    "\n",
    "def main():\n",
    "    num1=float(input(\"Please type one number:\"))\n",
    "    num2=float(input(\"Please type another number:\"))\n",
    "\n",
    "    print(num1, \"+\", num2,\"=\", add_two(num1,num2))\n",
    "\n",
    "if __name__ == \"__main__\":\n",
    "    main()\n",
    "\n",
    "```\n"
   ]
  },
  {
   "cell_type": "markdown",
   "metadata": {},
   "source": [
    "That works on the command line still.\n",
    "\n",
    "But we can import it and use as intended:"
   ]
  },
  {
   "cell_type": "code",
   "execution_count": 10,
   "metadata": {},
   "outputs": [
    {
     "name": "stdout",
     "output_type": "stream",
     "text": [
      "Your score is: 25\n"
     ]
    }
   ],
   "source": [
    "import add_two_ifmain\n",
    "\n",
    "score=20\n",
    "bonus=5\n",
    "\n",
    "print(\"Your score is:\", add_two_ifmain.add_two(score,bonus))"
   ]
  },
  {
   "cell_type": "markdown",
   "metadata": {},
   "source": [
    "By moving the interactive parts of the program to the \"main\" function and using the `__name__` variable, we have the best of both worlds.\n",
    "\n",
    "Mostly I want to show this because you will find a lot of examples that look like this and it can be confusing if you don't understand what they are doing."
   ]
  },
  {
   "cell_type": "markdown",
   "metadata": {},
   "source": [
    "## Pandas\n",
    "\n",
    "Pandas makes analyzing tabular data so much easier. There's a lot that can be done in Pandas, but let's use our flights data as an example.\n",
    "\n",
    "Turns out there's a similar dataset online here:"
   ]
  },
  {
   "cell_type": "code",
   "execution_count": 14,
   "metadata": {},
   "outputs": [
    {
     "name": "stderr",
     "output_type": "stream",
     "text": [
      "/anaconda/lib/python3.6/site-packages/IPython/core/interactiveshell.py:2717: DtypeWarning: Columns (1,8,9,10,11,12,13,14,16,17,18,19,20,21,22,23,24) have mixed types. Specify dtype option on import or set low_memory=False.\n",
      "  interactivity=interactivity, compiler=compiler, result=result)\n"
     ]
    },
    {
     "data": {
      "text/html": [
       "<div>\n",
       "<style scoped>\n",
       "    .dataframe tbody tr th:only-of-type {\n",
       "        vertical-align: middle;\n",
       "    }\n",
       "\n",
       "    .dataframe tbody tr th {\n",
       "        vertical-align: top;\n",
       "    }\n",
       "\n",
       "    .dataframe thead th {\n",
       "        text-align: right;\n",
       "    }\n",
       "</style>\n",
       "<table border=\"1\" class=\"dataframe\">\n",
       "  <thead>\n",
       "    <tr style=\"text-align: right;\">\n",
       "      <th></th>\n",
       "      <th>FL_DATE</th>\n",
       "      <th>AIRLINE_ID</th>\n",
       "      <th>ORIGIN</th>\n",
       "      <th>ORIGIN_CITY_NAME</th>\n",
       "      <th>ORIGIN_STATE_ABR</th>\n",
       "      <th>DEST</th>\n",
       "      <th>DEST_CITY_NAME</th>\n",
       "      <th>DEST_STATE_ABR</th>\n",
       "      <th>DEP_TIME</th>\n",
       "      <th>DEP_DELAY_NEW</th>\n",
       "      <th>...</th>\n",
       "      <th>DIVERTED</th>\n",
       "      <th>AIR_TIME</th>\n",
       "      <th>FLIGHTS</th>\n",
       "      <th>DISTANCE</th>\n",
       "      <th>CARRIER_DELAY</th>\n",
       "      <th>WEATHER_DELAY</th>\n",
       "      <th>NAS_DELAY</th>\n",
       "      <th>SECURITY_DELAY</th>\n",
       "      <th>LATE_AIRCRAFT_DELAY</th>\n",
       "      <th>Unnamed: 25</th>\n",
       "    </tr>\n",
       "  </thead>\n",
       "  <tbody>\n",
       "    <tr>\n",
       "      <th>0</th>\n",
       "      <td>2017-10-01</td>\n",
       "      <td>20366</td>\n",
       "      <td>ATL</td>\n",
       "      <td>Atlanta, GA</td>\n",
       "      <td>GA</td>\n",
       "      <td>DHN</td>\n",
       "      <td>Dothan, AL</td>\n",
       "      <td>AL</td>\n",
       "      <td>1348</td>\n",
       "      <td>0</td>\n",
       "      <td>...</td>\n",
       "      <td>0</td>\n",
       "      <td>30</td>\n",
       "      <td>1</td>\n",
       "      <td>170</td>\n",
       "      <td>NaN</td>\n",
       "      <td>NaN</td>\n",
       "      <td>NaN</td>\n",
       "      <td>NaN</td>\n",
       "      <td>NaN</td>\n",
       "      <td>NaN</td>\n",
       "    </tr>\n",
       "    <tr>\n",
       "      <th>1</th>\n",
       "      <td>2017-10-01</td>\n",
       "      <td>20366</td>\n",
       "      <td>DHN</td>\n",
       "      <td>Dothan, AL</td>\n",
       "      <td>AL</td>\n",
       "      <td>ATL</td>\n",
       "      <td>Atlanta, GA</td>\n",
       "      <td>GA</td>\n",
       "      <td>1413</td>\n",
       "      <td>0</td>\n",
       "      <td>...</td>\n",
       "      <td>0</td>\n",
       "      <td>34</td>\n",
       "      <td>1</td>\n",
       "      <td>170</td>\n",
       "      <td>NaN</td>\n",
       "      <td>NaN</td>\n",
       "      <td>NaN</td>\n",
       "      <td>NaN</td>\n",
       "      <td>NaN</td>\n",
       "      <td>NaN</td>\n",
       "    </tr>\n",
       "    <tr>\n",
       "      <th>2</th>\n",
       "      <td>2017-10-01</td>\n",
       "      <td>20366</td>\n",
       "      <td>LGA</td>\n",
       "      <td>New York, NY</td>\n",
       "      <td>NY</td>\n",
       "      <td>GSO</td>\n",
       "      <td>Greensboro/High Point, NC</td>\n",
       "      <td>NC</td>\n",
       "      <td>1010</td>\n",
       "      <td>0</td>\n",
       "      <td>...</td>\n",
       "      <td>0</td>\n",
       "      <td>69</td>\n",
       "      <td>1</td>\n",
       "      <td>461</td>\n",
       "      <td>NaN</td>\n",
       "      <td>NaN</td>\n",
       "      <td>NaN</td>\n",
       "      <td>NaN</td>\n",
       "      <td>NaN</td>\n",
       "      <td>NaN</td>\n",
       "    </tr>\n",
       "    <tr>\n",
       "      <th>3</th>\n",
       "      <td>2017-10-01</td>\n",
       "      <td>20366</td>\n",
       "      <td>DTW</td>\n",
       "      <td>Detroit, MI</td>\n",
       "      <td>MI</td>\n",
       "      <td>SYR</td>\n",
       "      <td>Syracuse, NY</td>\n",
       "      <td>NY</td>\n",
       "      <td>1538</td>\n",
       "      <td>0</td>\n",
       "      <td>...</td>\n",
       "      <td>0</td>\n",
       "      <td>59</td>\n",
       "      <td>1</td>\n",
       "      <td>374</td>\n",
       "      <td>NaN</td>\n",
       "      <td>NaN</td>\n",
       "      <td>NaN</td>\n",
       "      <td>NaN</td>\n",
       "      <td>NaN</td>\n",
       "      <td>NaN</td>\n",
       "    </tr>\n",
       "    <tr>\n",
       "      <th>4</th>\n",
       "      <td>2017-10-01</td>\n",
       "      <td>20366</td>\n",
       "      <td>SYR</td>\n",
       "      <td>Syracuse, NY</td>\n",
       "      <td>NY</td>\n",
       "      <td>DTW</td>\n",
       "      <td>Detroit, MI</td>\n",
       "      <td>MI</td>\n",
       "      <td>1740</td>\n",
       "      <td>0</td>\n",
       "      <td>...</td>\n",
       "      <td>0</td>\n",
       "      <td>57</td>\n",
       "      <td>1</td>\n",
       "      <td>374</td>\n",
       "      <td>NaN</td>\n",
       "      <td>NaN</td>\n",
       "      <td>NaN</td>\n",
       "      <td>NaN</td>\n",
       "      <td>NaN</td>\n",
       "      <td>NaN</td>\n",
       "    </tr>\n",
       "  </tbody>\n",
       "</table>\n",
       "<p>5 rows × 26 columns</p>\n",
       "</div>"
      ],
      "text/plain": [
       "      FL_DATE AIRLINE_ID ORIGIN ORIGIN_CITY_NAME ORIGIN_STATE_ABR DEST  \\\n",
       "0  2017-10-01      20366    ATL      Atlanta, GA               GA  DHN   \n",
       "1  2017-10-01      20366    DHN       Dothan, AL               AL  ATL   \n",
       "2  2017-10-01      20366    LGA     New York, NY               NY  GSO   \n",
       "3  2017-10-01      20366    DTW      Detroit, MI               MI  SYR   \n",
       "4  2017-10-01      20366    SYR     Syracuse, NY               NY  DTW   \n",
       "\n",
       "              DEST_CITY_NAME DEST_STATE_ABR DEP_TIME DEP_DELAY_NEW  \\\n",
       "0                 Dothan, AL             AL     1348             0   \n",
       "1                Atlanta, GA             GA     1413             0   \n",
       "2  Greensboro/High Point, NC             NC     1010             0   \n",
       "3               Syracuse, NY             NY     1538             0   \n",
       "4                Detroit, MI             MI     1740             0   \n",
       "\n",
       "      ...     DIVERTED AIR_TIME FLIGHTS DISTANCE CARRIER_DELAY WEATHER_DELAY  \\\n",
       "0     ...            0       30       1      170           NaN           NaN   \n",
       "1     ...            0       34       1      170           NaN           NaN   \n",
       "2     ...            0       69       1      461           NaN           NaN   \n",
       "3     ...            0       59       1      374           NaN           NaN   \n",
       "4     ...            0       57       1      374           NaN           NaN   \n",
       "\n",
       "  NAS_DELAY SECURITY_DELAY LATE_AIRCRAFT_DELAY Unnamed: 25  \n",
       "0       NaN            NaN                 NaN         NaN  \n",
       "1       NaN            NaN                 NaN         NaN  \n",
       "2       NaN            NaN                 NaN         NaN  \n",
       "3       NaN            NaN                 NaN         NaN  \n",
       "4       NaN            NaN                 NaN         NaN  \n",
       "\n",
       "[5 rows x 26 columns]"
      ]
     },
     "execution_count": 14,
     "metadata": {},
     "output_type": "execute_result"
    }
   ],
   "source": [
    "import pandas as pd\n",
    "\n",
    "df=pd.read_csv(\"../data/flights.May2017-Apr2018.csv\")\n",
    "\n",
    "df.head()"
   ]
  },
  {
   "cell_type": "code",
   "execution_count": 15,
   "metadata": {
    "scrolled": true
   },
   "outputs": [
    {
     "data": {
      "text/plain": [
       "FL_DATE                1492\n",
       "AIRLINE_ID             1492\n",
       "ORIGIN                 1492\n",
       "ORIGIN_CITY_NAME       1492\n",
       "ORIGIN_STATE_ABR       1492\n",
       "DEST                   1492\n",
       "DEST_CITY_NAME         1492\n",
       "DEST_STATE_ABR         1492\n",
       "DEP_TIME               1492\n",
       "DEP_DELAY_NEW          1492\n",
       "DEP_DEL15              1492\n",
       "ARR_TIME               1491\n",
       "ARR_DELAY_NEW          1483\n",
       "ARR_DEL15              1483\n",
       "CANCELLED              1492\n",
       "CANCELLATION_CODE         1\n",
       "DIVERTED               1492\n",
       "AIR_TIME               1488\n",
       "FLIGHTS                1492\n",
       "DISTANCE               1492\n",
       "CARRIER_DELAY           735\n",
       "WEATHER_DELAY           735\n",
       "NAS_DELAY               735\n",
       "SECURITY_DELAY          735\n",
       "LATE_AIRCRAFT_DELAY     735\n",
       "Unnamed: 25               0\n",
       "dtype: int64"
      ]
     },
     "execution_count": 15,
     "metadata": {},
     "output_type": "execute_result"
    }
   ],
   "source": [
    "# Create a new dataframe where the ORIGIN or DEST are GNV and the DEP_DELAY_NEW is > 0.\n",
    "df[((df.ORIGIN=='GNV') | (df.DEST=='GNV')) & df.DEP_DELAY_NEW>0].count()"
   ]
  },
  {
   "cell_type": "markdown",
   "metadata": {},
   "source": [
    "We could keep going with this, but where to stop..."
   ]
  },
  {
   "cell_type": "markdown",
   "metadata": {},
   "source": [
    "## Keep going...\n",
    "\n",
    "There's a ton of online resources for Pandas. Here's a few suggestions:\n",
    "\n",
    "* [Top 8 resources for learning data analysis with Pandas](https://www.dataschool.io/best-python-pandas-resources/)\n",
    "\n",
    "* The videos and Juyter notebooks from: [Easier data analysis in Python with Pandas](https://www.dataschool.io/easier-data-analysis-with-pandas/)\n",
    "\n",
    "* The [Python Data Science Handbook](https://jakevdp.github.io/PythonDataScienceHandbook/) has a chapter on Pandas. This is a great book!\n"
   ]
  },
  {
   "cell_type": "code",
   "execution_count": null,
   "metadata": {},
   "outputs": [],
   "source": []
  }
 ],
 "metadata": {
  "kernelspec": {
   "display_name": "Python 3",
   "language": "python",
   "name": "python3"
  },
  "language_info": {
   "codemirror_mode": {
    "name": "ipython",
    "version": 3
   },
   "file_extension": ".py",
   "mimetype": "text/x-python",
   "name": "python",
   "nbconvert_exporter": "python",
   "pygments_lexer": "ipython3",
   "version": "3.6.3"
  }
 },
 "nbformat": 4,
 "nbformat_minor": 2
}
