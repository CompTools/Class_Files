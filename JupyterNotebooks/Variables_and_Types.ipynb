{
 "cells": [
  {
   "cell_type": "markdown",
   "metadata": {},
   "source": [
    "# Py4E Ch 2\n",
    "\n",
    "## From Section 2.2 Variables"
   ]
  },
  {
   "cell_type": "markdown",
   "metadata": {},
   "source": [
    "## Variables\n",
    "\n",
    "We've already played with variables in Bash and now we'll look at them in Python. Other than the syntax, there's not a lot different between Bash and Python variables.\n",
    "\n"
   ]
  },
  {
   "cell_type": "code",
   "execution_count": 1,
   "metadata": {},
   "outputs": [],
   "source": [
    "message = 'And now for something completely different'\n",
    "n = 17\n",
    "pi = 3.1415926535897931"
   ]
  },
  {
   "cell_type": "code",
   "execution_count": 8,
   "metadata": {},
   "outputs": [
    {
     "name": "stdout",
     "output_type": "stream",
     "text": [
      "And now for something completely different\n",
      "17\n",
      "Pi is: 3.141592653589793\n"
     ]
    }
   ],
   "source": [
    "print(message)\n",
    "print(n)\n",
    "print (\"Pi is:\", pi)"
   ]
  },
  {
   "cell_type": "markdown",
   "metadata": {},
   "source": [
    "Notice no \"$\" before variable names in either assigning the value or using the variable.\n",
    "\n",
    "So, while in Bash we could do something like:\n",
    "```\n",
    "[magitz@login4 ~]$ pi=3.14\n",
    "[magitz@login4 ~]$ echo \"Pi is: $pi\"\n",
    "Pi is: 3.14\n",
    "```\n",
    "In Python, that doesn't work since Python doesn't know you mean the variable pi vs the text \"pi\":"
   ]
  },
  {
   "cell_type": "code",
   "execution_count": 10,
   "metadata": {},
   "outputs": [
    {
     "name": "stdout",
     "output_type": "stream",
     "text": [
      "Pi is: pi\n"
     ]
    }
   ],
   "source": [
    "print(\"Pi is: pi\")"
   ]
  },
  {
   "cell_type": "markdown",
   "metadata": {},
   "source": [
    "## Variable types\n",
    "\n",
    "Variable types determine the kind of data that the variable holds. This impacts how the computer manages the memory where the data are stored. Section 2.2 of Py4E looks at this a bit."
   ]
  },
  {
   "cell_type": "code",
   "execution_count": 9,
   "metadata": {},
   "outputs": [
    {
     "data": {
      "text/plain": [
       "str"
      ]
     },
     "execution_count": 9,
     "metadata": {},
     "output_type": "execute_result"
    }
   ],
   "source": [
    "type(message)"
   ]
  },
  {
   "cell_type": "code",
   "execution_count": 5,
   "metadata": {},
   "outputs": [
    {
     "data": {
      "text/plain": [
       "int"
      ]
     },
     "execution_count": 5,
     "metadata": {},
     "output_type": "execute_result"
    }
   ],
   "source": [
    "type(n)"
   ]
  },
  {
   "cell_type": "code",
   "execution_count": 6,
   "metadata": {},
   "outputs": [
    {
     "data": {
      "text/plain": [
       "float"
      ]
     },
     "execution_count": 6,
     "metadata": {},
     "output_type": "execute_result"
    }
   ],
   "source": [
    "type(pi)"
   ]
  },
  {
   "cell_type": "markdown",
   "metadata": {},
   "source": [
    "Note that the Jupyter output is a little different than in the Py4E text and what you would get on the Python command prompt:\n",
    "```\n",
    "[magitz@login4 ~]$ python3\n",
    "Python 3.6.5 (default, Apr 10 2018, 00:31:24) \n",
    "[GCC 4.8.5 20150623 (Red Hat 4.8.5-16)] on linux\n",
    "Type \"help\", \"copyright\", \"credits\" or \"license\" for more information.\n",
    ">>> x=5\n",
    ">>> type(x)\n",
    "<class 'int'>\n",
    ">>> \n",
    "```\n",
    "We'll learn more about classes later, but for now, keep in mind that integers, floats and strings are all **classes**."
   ]
  },
  {
   "cell_type": "markdown",
   "metadata": {},
   "source": [
    "### Implicit vs explicit typing\n",
    "\n",
    "Like Bash, Pyhton uses **implicit typing** of variables. This is also sometimes called \"duck typing\". That is, if it looks like an integer, it's an integer. Variables are typed based on what they store.\n",
    "\n",
    "The oposite of implicit typing is **explicit typing** where you, as the coder, must declare--when you define the variable--what type of data it will hold. C, C++ and others rely on explicit typing--this tends to be the case for compiled programs as the machine code needs to be compiled to properly store the data before the data are present. This forces coders to be more explicit about what they plan to do with a variable, but can also be limiting when you might want to not be explicit ahead of time.\n",
    "\n",
    "Implicit typing is handy for programmers because you don't need to think about what type of data the variable will hold...except that you kind of do, because different types do different things when you operate on them.\n"
   ]
  },
  {
   "cell_type": "code",
   "execution_count": 13,
   "metadata": {},
   "outputs": [
    {
     "name": "stdout",
     "output_type": "stream",
     "text": [
      "Stringtext\n"
     ]
    }
   ],
   "source": [
    "x=\"String\"\n",
    "y=\"text\"\n",
    "print (x+y)"
   ]
  },
  {
   "cell_type": "code",
   "execution_count": 14,
   "metadata": {},
   "outputs": [
    {
     "name": "stdout",
     "output_type": "stream",
     "text": [
      "8\n"
     ]
    }
   ],
   "source": [
    "x=5\n",
    "y=3\n",
    "print(x+y)"
   ]
  },
  {
   "cell_type": "markdown",
   "metadata": {},
   "source": [
    "Here are some common variable types and examples of the data they correspond to:\n",
    "\n",
    "\n",
    "|Type|Example|\n",
    "|----|-------|\n",
    "|Integer | 42 |\n",
    "|Float (real) | 3.14 |\n",
    "|Boolean | True |\n",
    "|String | Hello |\n",
    "|List | [1,4,\"text\",5]|\n",
    "|Tuple | (42,\"Answer\") |\n",
    "|Dictionary | {\"Name\" : \"Matt\", \"Fingers\" : 10} |\n",
    "\n"
   ]
  },
  {
   "cell_type": "markdown",
   "metadata": {},
   "source": [
    "In many cases you can force Python to interpret a variable has having a particular type. For example:"
   ]
  },
  {
   "cell_type": "code",
   "execution_count": 15,
   "metadata": {},
   "outputs": [
    {
     "ename": "TypeError",
     "evalue": "unsupported operand type(s) for +: 'int' and 'str'",
     "output_type": "error",
     "traceback": [
      "\u001b[0;31m---------------------------------------------------------------------------\u001b[0m",
      "\u001b[0;31mTypeError\u001b[0m                                 Traceback (most recent call last)",
      "\u001b[0;32m<ipython-input-15-91127246e717>\u001b[0m in \u001b[0;36m<module>\u001b[0;34m()\u001b[0m\n\u001b[1;32m      1\u001b[0m \u001b[0mx\u001b[0m\u001b[0;34m=\u001b[0m\u001b[0;36m5\u001b[0m\u001b[0;34m\u001b[0m\u001b[0m\n\u001b[1;32m      2\u001b[0m \u001b[0my\u001b[0m\u001b[0;34m=\u001b[0m\u001b[0;34m\"Test\"\u001b[0m\u001b[0;34m\u001b[0m\u001b[0m\n\u001b[0;32m----> 3\u001b[0;31m \u001b[0mprint\u001b[0m \u001b[0;34m(\u001b[0m\u001b[0mx\u001b[0m\u001b[0;34m+\u001b[0m\u001b[0my\u001b[0m\u001b[0;34m)\u001b[0m\u001b[0;34m\u001b[0m\u001b[0m\n\u001b[0m",
      "\u001b[0;31mTypeError\u001b[0m: unsupported operand type(s) for +: 'int' and 'str'"
     ]
    }
   ],
   "source": [
    "x=5\n",
    "y=\"Test\"\n",
    "print (x+y)"
   ]
  },
  {
   "cell_type": "code",
   "execution_count": 16,
   "metadata": {},
   "outputs": [
    {
     "name": "stdout",
     "output_type": "stream",
     "text": [
      "5Test\n"
     ]
    }
   ],
   "source": [
    "print (str(x)+y)"
   ]
  },
  {
   "cell_type": "markdown",
   "metadata": {},
   "source": [
    "In the first case, we get an error because Python doesn't know what to do to add an integer and a string. \n",
    "\n",
    "In the second case, we tell Python to treat x as a string and Python knows how to add (concatenate) strings.\n",
    "\n",
    "But you need to be careful and it doesn't always work..."
   ]
  },
  {
   "cell_type": "code",
   "execution_count": 31,
   "metadata": {},
   "outputs": [
    {
     "name": "stdout",
     "output_type": "stream",
     "text": [
      "Convert 1.0 to integer: 1\n",
      "Convert 1.5 to integer: 1\n"
     ]
    },
    {
     "ename": "ValueError",
     "evalue": "invalid literal for int() with base 10: 'two'",
     "output_type": "error",
     "traceback": [
      "\u001b[0;31m---------------------------------------------------------------------------\u001b[0m",
      "\u001b[0;31mValueError\u001b[0m                                Traceback (most recent call last)",
      "\u001b[0;32m<ipython-input-31-683d9c886aa2>\u001b[0m in \u001b[0;36m<module>\u001b[0;34m()\u001b[0m\n\u001b[1;32m      6\u001b[0m \u001b[0;34m\u001b[0m\u001b[0m\n\u001b[1;32m      7\u001b[0m \u001b[0mnum\u001b[0m\u001b[0;34m=\u001b[0m\u001b[0;34m\"two\"\u001b[0m\u001b[0;34m\u001b[0m\u001b[0m\n\u001b[0;32m----> 8\u001b[0;31m \u001b[0mprint\u001b[0m\u001b[0;34m(\u001b[0m\u001b[0;34m\"Convert 'two' to integer:\"\u001b[0m\u001b[0;34m,\u001b[0m\u001b[0mint\u001b[0m\u001b[0;34m(\u001b[0m\u001b[0mnum\u001b[0m\u001b[0;34m)\u001b[0m\u001b[0;34m)\u001b[0m\u001b[0;34m\u001b[0m\u001b[0m\n\u001b[0m",
      "\u001b[0;31mValueError\u001b[0m: invalid literal for int() with base 10: 'two'"
     ]
    }
   ],
   "source": [
    "num=1.0\n",
    "print(\"Convert 1.0 to integer:\",int(num))\n",
    "\n",
    "num=1.5\n",
    "print(\"Convert 1.5 to integer:\",int(num))\n",
    "\n",
    "num=\"two\"\n",
    "print(\"Convert 'two' to integer:\",int(num))"
   ]
  },
  {
   "cell_type": "markdown",
   "metadata": {},
   "source": [
    "## From Section 2.3\n",
    "\n",
    "### Variable names\n",
    "There are many (conflicting) opinions on variable naming. Consistency wins, but the [PEP8 Style Guide](https://www.python.org/dev/peps/pep-0008/) says that variable and function names should be **lower_case_with_underscores** connecting multple words.\n",
    "\n"
   ]
  },
  {
   "cell_type": "markdown",
   "metadata": {},
   "source": [
    "## From Section 2.10\n",
    "\n",
    "Example of input()"
   ]
  },
  {
   "cell_type": "code",
   "execution_count": 17,
   "metadata": {},
   "outputs": [
    {
     "name": "stdout",
     "output_type": "stream",
     "text": [
      "This is some text\n",
      "This is some text\n"
     ]
    }
   ],
   "source": [
    "inp=input()\n",
    "print(inp)"
   ]
  },
  {
   "cell_type": "code",
   "execution_count": 20,
   "metadata": {},
   "outputs": [
    {
     "name": "stdout",
     "output_type": "stream",
     "text": [
      "What is your name?\n",
      "Matt\n",
      "Hi Matt , nice to meet you!\n"
     ]
    }
   ],
   "source": [
    "name=input(\"What is your name?\\n\")\n",
    "print(\"Hi\", name,\", nice to meet you!\")"
   ]
  },
  {
   "cell_type": "markdown",
   "metadata": {},
   "source": [
    "Notice the spaces that print puts between the things we told it to print. That can also be controlled (we just need to put spaces where we *do* want them):"
   ]
  },
  {
   "cell_type": "code",
   "execution_count": 22,
   "metadata": {},
   "outputs": [
    {
     "name": "stdout",
     "output_type": "stream",
     "text": [
      "What is your name?\n",
      "Matt\n",
      "Hi Matt, nice to meet you!\n"
     ]
    }
   ],
   "source": [
    "name=input(\"What is your name?\\n\")\n",
    "print(\"Hi \", name,\", nice to meet you!\", sep=\"\")"
   ]
  },
  {
   "cell_type": "code",
   "execution_count": 27,
   "metadata": {},
   "outputs": [
    {
     "name": "stdout",
     "output_type": "stream",
     "text": [
      "What...is the airspeed velocity of an unladen swallow?\n",
      "17\n"
     ]
    },
    {
     "data": {
      "text/plain": [
       "17"
      ]
     },
     "execution_count": 27,
     "metadata": {},
     "output_type": "execute_result"
    }
   ],
   "source": [
    "prompt = 'What...is the airspeed velocity of an unladen swallow?\\n'\n",
    "speed = input(prompt)\n",
    "int(speed)"
   ]
  },
  {
   "cell_type": "markdown",
   "metadata": {},
   "source": [
    "# Your turn...\n",
    "\n",
    "In a group, work on **Exercise 3** at the end of Chapter 2 of Py4E (p. 30 in the PDF).\n",
    "\n",
    "If you finish that, do **Exercise 5**."
   ]
  },
  {
   "cell_type": "code",
   "execution_count": null,
   "metadata": {},
   "outputs": [],
   "source": []
  }
 ],
 "metadata": {
  "kernelspec": {
   "display_name": "Python 3",
   "language": "python",
   "name": "python3"
  },
  "language_info": {
   "codemirror_mode": {
    "name": "ipython",
    "version": 3
   },
   "file_extension": ".py",
   "mimetype": "text/x-python",
   "name": "python",
   "nbconvert_exporter": "python",
   "pygments_lexer": "ipython3",
   "version": "3.6.3"
  }
 },
 "nbformat": 4,
 "nbformat_minor": 2
}
