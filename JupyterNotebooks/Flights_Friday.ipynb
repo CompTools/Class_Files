{
 "cells": [
  {
   "cell_type": "markdown",
   "metadata": {},
   "source": [
    "# Flights to SQlite database\n",
    "\n",
    "Using https://jhub.rc.ufl.edu we can only access /home, so make a symbolic link to the flights file on command line:\n",
    "```bash\n",
    "ln -s /ufrc/zoo6927/share/Class_Files/data/flights.May2017-Apr2018.csv .\n",
    "```"
   ]
  },
  {
   "cell_type": "code",
   "execution_count": 1,
   "metadata": {},
   "outputs": [
    {
     "name": "stdout",
     "output_type": "stream",
     "text": [
      "6156045\n"
     ]
    }
   ],
   "source": [
    "# quick check that this worked\n",
    "\n",
    "flights=open(\"/ufrc/zoo6927/share/Class_Files/data/flights.May2017-Apr2018.csv\")\n",
    "\n",
    "count=0\n",
    "for Line in flights:\n",
    "    count+=1\n",
    "print(count)\n",
    "\n",
    "flights.close()"
   ]
  },
  {
   "cell_type": "markdown",
   "metadata": {},
   "source": [
    "Here's the metadata from the flights file: https://github.com/CompTools/Class_Files/blob/master/data/flights_metadata.md\n"
   ]
  },
  {
   "cell_type": "markdown",
   "metadata": {},
   "source": [
    "## Picking up from Wednesday...\n",
    "I've modified the code a bit from where we left off.\n",
    "\n",
    "I changed the code to load the tables if they exist and the create them if they don't.\n",
    "\n",
    "I also added all the columns to the Flights table."
   ]
  },
  {
   "cell_type": "code",
   "execution_count": 47,
   "metadata": {},
   "outputs": [],
   "source": [
    "from sqlalchemy import create_engine\n",
    "from sqlalchemy import Table, Column, Integer, String, MetaData, ForeignKey\n",
    "from sqlalchemy import DateTime, Boolean\n",
    "from sqlalchemy import exists\n",
    "from sqlalchemy import sql, select, join, desc\n",
    "\n",
    "# Create a sqlite database \n",
    "engine = create_engine('sqlite:///zoo6927/flights.sqlite')\n",
    "\n",
    "metadata=MetaData(engine)\n",
    "\n",
    "# Try to load Airports info from database, if not there, create it.\n",
    "try:\n",
    "    Airports=Table('Airports', metadata, autoload=True)\n",
    "except:\n",
    "    Airports = Table ('Airports', metadata,\n",
    "                Column('ID', Integer, autoincrement=True),\n",
    "                Column('Code', String, primary_key=True),\n",
    "                Column('City', String),\n",
    "                Column('State', String),\n",
    "                Column('Name', String),\n",
    "               )\n",
    "\n",
    "# Same for Flights table.\n",
    "try:\n",
    "    Flights=Table('Flights', metadata, autoload=True)\n",
    "except:\n",
    "    Flights = Table ('Flights', metadata,\n",
    "                 Column('Fl_date', DateTime),\n",
    "                 Column('Airline_ID', String),\n",
    "                 Column('Origin', String, ForeignKey(\"Airports.Code\")),\n",
    "                 Column('Destination', String, ForeignKey(\"Airports.Code\")),\n",
    "                 Column('Dep_Time', String),\n",
    "                 Column('Dep_Delay_New', Integer),\n",
    "                 Column('Arr_Time', String),\n",
    "                 Column('Arr_Delay_New', Integer),\n",
    "                 Column('Cancelled', Boolean),\n",
    "                 Column('Cancellation_Code', String),\n",
    "                 Column('Diverted', Boolean),\n",
    "                 Column('Air_Time', String),\n",
    "                 Column('Flights', Integer),\n",
    "                 Column('Distance', Integer),\n",
    "                 Column('Carrier_Delay', Integer),\n",
    "                 Column('Weather_Delay', Integer),\n",
    "                 Column('NAS_Delay', Integer),\n",
    "                 Column('Security_Delay', Integer),\n",
    "                 Column('Late_Aircraft_Delay', Integer)\n",
    "                )\n",
    "                 \n",
    "metadata.create_all(engine)"
   ]
  },
  {
   "cell_type": "markdown",
   "metadata": {},
   "source": [
    "## Cheating??\n",
    "\n",
    "In playing and thinking about this I realized that to populate the Airports table, we only want unique airports added to the table. I tried to find ways to do this in SQLAlchemy, but it was slow and not entirely clear, so I am cheating a bit...\n",
    "\n",
    "Read through the file once and make a dictionary with the information we want. We can use the `if Line['ORIGIN'] not in Airport_dict:` construct to only add unique airports"
   ]
  },
  {
   "cell_type": "code",
   "execution_count": 49,
   "metadata": {},
   "outputs": [
    {
     "name": "stdout",
     "output_type": "stream",
     "text": [
      "{'LAX': ['Los Angeles, CA', 'CA'], 'IAD': ['Washington, DC', 'VA'], 'SAN': ['San Diego, CA', 'CA'], 'SFO': ['San Francisco, CA', 'CA'], 'EWR': ['Newark, NJ', 'NJ'], 'JFK': ['New York, NY', 'NY'], 'OGG': ['Kahului, HI', 'HI'], 'SEA': ['Seattle, WA', 'WA'], 'DCA': ['Washington, DC', 'VA'], 'ORD': ['Chicago, IL', 'IL'], 'AUS': ['Austin, TX', 'TX'], 'PDX': ['Portland, OR', 'OR'], 'LAS': ['Las Vegas, NV', 'NV'], 'MCO': ['Orlando, FL', 'FL'], 'FLL': ['Fort Lauderdale, FL', 'FL'], 'BOS': ['Boston, MA', 'MA'], 'HNL': ['Honolulu, HI', 'HI'], 'PSP': ['Palm Springs, CA', 'CA'], 'DAL': ['Dallas, TX', 'TX'], 'LGA': ['New York, NY', 'NY'], 'DEN': ['Denver, CO', 'CO'], 'SNA': ['Santa Ana, CA', 'CA'], 'IAH': ['Houston, TX', 'TX'], 'MEM': ['Memphis, TN', 'TN'], 'CLE': ['Cleveland, OH', 'OH'], 'AVL': ['Asheville, NC', 'NC'], 'ONT': ['Ontario, CA', 'CA'], 'MSP': ['Minneapolis, MN', 'MN'], 'MIA': ['Miami, FL', 'FL'], 'SAV': ['Savannah, GA', 'GA'], 'ATL': ['Atlanta, GA', 'GA'], 'TPA': ['Tampa, FL', 'FL'], 'RSW': ['Fort Myers, FL', 'FL'], 'RDU': ['Raleigh/Durham, NC', 'NC'], 'BDL': ['Hartford, CT', 'CT'], 'GUM': ['Guam, TT', 'TT'], 'BUR': ['Burbank, CA', 'CA'], 'GRR': ['Grand Rapids, MI', 'MI'], 'ABQ': ['Albuquerque, NM', 'NM'], 'PIT': ['Pittsburgh, PA', 'PA'], 'PHL': ['Philadelphia, PA', 'PA'], 'PHX': ['Phoenix, AZ', 'AZ'], 'BNA': ['Nashville, TN', 'TN'], 'CMH': ['Columbus, OH', 'OH'], 'MFE': ['Mission/McAllen/Edinburg, TX', 'TX'], 'GEG': ['Spokane, WA', 'WA'], 'MSY': ['New Orleans, LA', 'LA'], 'SLC': ['Salt Lake City, UT', 'UT'], 'BWI': ['Baltimore, MD', 'MD'], 'BOI': ['Boise, ID', 'ID'], 'MDT': ['Harrisburg, PA', 'PA'], 'SMF': ['Sacramento, CA', 'CA'], 'ORF': ['Norfolk, VA', 'VA'], 'ALB': ['Albany, NY', 'NY'], 'BZN': ['Bozeman, MT', 'MT'], 'RNO': ['Reno, NV', 'NV'], 'ICT': ['Wichita, KS', 'KS'], 'CHS': ['Charleston, SC', 'SC'], 'DTW': ['Detroit, MI', 'MI'], 'DFW': ['Dallas/Fort Worth, TX', 'TX'], 'IND': ['Indianapolis, IN', 'IN'], 'PBI': ['West Palm Beach/Palm Beach, FL', 'FL'], 'SJC': ['San Jose, CA', 'CA'], 'MYR': ['Myrtle Beach, SC', 'SC'], 'OMA': ['Omaha, NE', 'NE'], 'SAT': ['San Antonio, TX', 'TX'], 'MKE': ['Milwaukee, WI', 'WI'], 'MCI': ['Kansas City, MO', 'MO'], 'BIL': ['Billings, MT', 'MT'], 'MSN': ['Madison, WI', 'WI'], 'TUS': ['Tucson, AZ', 'AZ'], 'ROC': ['Rochester, NY', 'NY'], 'CLT': ['Charlotte, NC', 'NC'], 'MFR': ['Medford, OR', 'OR'], 'TUL': ['Tulsa, OK', 'OK'], 'CVG': ['Cincinnati, OH', 'KY'], 'STL': ['St. Louis, MO', 'MO'], 'KOA': ['Kona, HI', 'HI'], 'SJU': ['San Juan, PR', 'PR'], 'DSM': ['Des Moines, IA', 'IA'], 'RIC': ['Richmond, VA', 'VA'], 'EUG': ['Eugene, OR', 'OR'], 'ITO': ['Hilo, HI', 'HI'], 'BQN': ['Aguadilla, PR', 'PR'], 'ANC': ['Anchorage, AK', 'AK'], 'LIH': ['Lihue, HI', 'HI'], 'OKC': ['Oklahoma City, OK', 'OK'], 'FSD': ['Sioux Falls, SD', 'SD'], 'SRQ': ['Sarasota/Bradenton, FL', 'FL'], 'JAX': ['Jacksonville, FL', 'FL'], 'STT': ['Charlotte Amalie, VI', 'VI'], 'TYS': ['Knoxville, TN', 'TN'], 'FWA': ['Fort Wayne, IN', 'IN'], 'TOL': ['Toledo, OH', 'OH'], 'BMI': ['Bloomington/Normal, IL', 'IL'], 'MLI': ['Moline, IL', 'IL'], 'COU': ['Columbia, MO', 'MO'], 'TVC': ['Traverse City, MI', 'MI'], 'RDM': ['Bend/Redmond, OR', 'OR'], 'SBP': ['San Luis Obispo, CA', 'CA'], 'FLG': ['Flagstaff, AZ', 'AZ'], 'RST': ['Rochester, MN', 'MN'], 'ALO': ['Waterloo, IA', 'IA'], 'CAK': ['Akron, OH', 'OH'], 'BIS': ['Bismarck/Mandan, ND', 'ND'], 'AZO': ['Kalamazoo, MI', 'MI'], 'EVV': ['Evansville, IN', 'IN'], 'LSE': ['La Crosse, WI', 'WI'], 'CWA': ['Mosinee, WI', 'WI'], 'PIA': ['Peoria, IL', 'IL'], 'HSV': ['Huntsville, AL', 'AL'], 'CID': ['Cedar Rapids/Iowa City, IA', 'IA'], 'GRB': ['Green Bay, WI', 'WI'], 'CHA': ['Chattanooga, TN', 'TN'], 'DAY': ['Dayton, OH', 'OH'], 'MHK': ['Manhattan/Ft. Riley, KS', 'KS'], 'LEX': ['Lexington, KY', 'KY'], 'SDF': ['Louisville, KY', 'KY'], 'FNT': ['Flint, MI', 'MI'], 'FAT': ['Fresno, CA', 'CA'], 'GJT': ['Grand Junction, CO', 'CO'], 'DRO': ['Durango, CO', 'CO'], 'IFP': ['Bullhead City, AZ', 'AZ'], 'LBB': ['Lubbock, TX', 'TX'], 'BFL': ['Bakersfield, CA', 'CA'], 'STS': ['Santa Rosa, CA', 'CA'], 'YUM': ['Yuma, AZ', 'AZ'], 'ROW': ['Roswell, NM', 'NM'], 'SAF': ['Santa Fe, NM', 'NM'], 'CHO': ['Charlottesville, VA', 'VA'], 'SGU': ['St. George, UT', 'UT'], 'SBA': ['Santa Barbara, CA', 'CA'], 'COS': ['Colorado Springs, CO', 'CO'], 'MOT': ['Minot, ND', 'ND'], 'SBN': ['South Bend, IN', 'IN'], 'JAC': ['Jackson, WY', 'WY'], 'LAN': ['Lansing, MI', 'MI'], 'CRW': ['Charleston/Dunbar, WV', 'WV'], 'MBS': ['Saginaw/Bay City/Midland, MI', 'MI'], 'ABE': ['Allentown/Bethlehem/Easton, PA', 'PA'], 'MDW': ['Chicago, IL', 'IL'], 'SYR': ['Syracuse, NY', 'NY'], 'GSP': ['Greer, SC', 'SC'], 'MGM': ['Montgomery, AL', 'AL'], 'LNK': ['Lincoln, NE', 'NE'], 'HLN': ['Helena, MT', 'MT'], 'SCE': ['State College, PA', 'PA'], 'SWF': ['Newburgh/Poughkeepsie, NY', 'NY'], 'COD': ['Cody, WY', 'WY'], 'ERI': ['Erie, PA', 'PA'], 'IMT': ['Iron Mountain/Kingsfd, MI', 'MI'], 'GFK': ['Grand Forks, ND', 'ND'], 'RAP': ['Rapid City, SD', 'SD'], 'IDA': ['Idaho Falls, ID', 'ID'], 'DLH': ['Duluth, MN', 'MN'], 'FAR': ['Fargo, ND', 'ND'], 'SUN': ['Sun Valley/Hailey/Ketchum, ID', 'ID'], 'AVP': ['Scranton/Wilkes-Barre, PA', 'PA'], 'FCA': ['Kalispell, MT', 'MT'], 'XNA': ['Fayetteville, AR', 'AR'], 'BUF': ['Buffalo, NY', 'NY'], 'PSC': ['Pasco/Kennewick/Richland, WA', 'WA'], 'GTF': ['Great Falls, MT', 'MT'], 'ATW': ['Appleton, WI', 'WI'], 'MSO': ['Missoula, MT', 'MT'], 'MHT': ['Manchester, NH', 'NH'], 'LGB': ['Long Beach, CA', 'CA'], 'ISN': ['Williston, ND', 'ND'], 'FSM': ['Fort Smith, AR', 'AR'], 'DHN': ['Dothan, AL', 'AL'], 'MOB': ['Mobile, AL', 'AL'], 'ILM': ['Wilmington, NC', 'NC'], 'LFT': ['Lafayette, LA', 'LA'], 'FAY': ['Fayetteville, NC', 'NC'], 'TRI': ['Bristol/Johnson City/Kingsport, TN', 'TN'], 'CMX': ['Hancock/Houghton, MI', 'MI'], 'EAU': ['Eau Claire, WI', 'WI'], 'LAR': ['Laramie, WY', 'WY'], 'RKS': ['Rock Springs, WY', 'WY'], 'MKG': ['Muskegon, MI', 'MI'], 'MRY': ['Monterey, CA', 'CA'], 'GCC': ['Gillette, WY', 'WY'], 'PAH': ['Paducah, KY', 'KY'], 'SPI': ['Springfield, IL', 'IL'], 'DVL': ['Devils Lake, ND', 'ND'], 'JMS': ['Jamestown, ND', 'ND'], 'OTH': ['North Bend/Coos Bay, OR', 'OR'], 'HYS': ['Hays, KS', 'KS'], 'BHM': ['Birmingham, AL', 'AL'], 'ELP': ['El Paso, TX', 'TX'], 'RDD': ['Redding, CA', 'CA'], 'ACV': ['Arcata/Eureka, CA', 'CA'], 'SGF': ['Springfield, MO', 'MO'], 'HRL': ['Harlingen/San Benito, TX', 'TX'], 'ASE': ['Aspen, CO', 'CO'], 'HDN': ['Hayden, CO', 'CO'], 'MAF': ['Midland/Odessa, TX', 'TX'], 'LIT': ['Little Rock, AR', 'AR'], 'SHV': ['Shreveport, LA', 'LA'], 'ITH': ['Ithaca/Cortland, NY', 'NY'], 'LWS': ['Lewiston, ID', 'ID'], 'PIH': ['Pocatello, ID', 'ID'], 'ABR': ['Aberdeen, SD', 'SD'], 'APN': ['Alpena, MI', 'MI'], 'ESC': ['Escanaba, MI', 'MI'], 'PLN': ['Pellston, MI', 'MI'], 'BJI': ['Bemidji, MN', 'MN'], 'CPR': ['Casper, WY', 'WY'], 'BRD': ['Brainerd, MN', 'MN'], 'BTM': ['Butte, MT', 'MT'], 'CDC': ['Cedar City, UT', 'UT'], 'CIU': ['Sault Ste. Marie, MI', 'MI'], 'EKO': ['Elko, NV', 'NV'], 'MQT': ['Marquette, MI', 'MI'], 'TWF': ['Twin Falls, ID', 'ID'], 'HIB': ['Hibbing, MN', 'MN'], 'BGM': ['Binghamton, NY', 'NY'], 'RHI': ['Rhinelander, WI', 'WI'], 'INL': ['International Falls, MN', 'MN'], 'STX': ['Christiansted, VI', 'VI'], 'PVD': ['Providence, RI', 'RI'], 'PWM': ['Portland, ME', 'ME'], 'OAK': ['Oakland, CA', 'CA'], 'PPG': ['Pago Pago, TT', 'TT'], 'ACY': ['Atlantic City, NJ', 'NJ'], 'IAG': ['Niagara Falls, NY', 'NY'], 'LBE': ['Latrobe, PA', 'PA'], 'PBG': ['Plattsburgh, NY', 'NY'], 'TTN': ['Trenton, NJ', 'NJ'], 'UST': ['St. Augustine, FL', 'FL'], 'ADQ': ['Kodiak, AK', 'AK'], 'BET': ['Bethel, AK', 'AK'], 'SCC': ['Deadhorse, AK', 'AK'], 'BRW': ['Barrow, AK', 'AK'], 'FAI': ['Fairbanks, AK', 'AK'], 'KTN': ['Ketchikan, AK', 'AK'], 'JNU': ['Juneau, AK', 'AK'], 'CDV': ['Cordova, AK', 'AK'], 'YAK': ['Yakutat, AK', 'AK'], 'SIT': ['Sitka, AK', 'AK'], 'PSG': ['Petersburg, AK', 'AK'], 'WRG': ['Wrangell, AK', 'AK'], 'OME': ['Nome, AK', 'AK'], 'OTZ': ['Kotzebue, AK', 'AK'], 'BLI': ['Bellingham, WA', 'WA'], 'AEX': ['Alexandria, LA', 'LA'], 'TYR': ['Tyler, TX', 'TX'], 'CLL': ['College Station/Bryan, TX', 'TX'], 'LRD': ['Laredo, TX', 'TX'], 'BTR': ['Baton Rouge, LA', 'LA'], 'LAW': ['Lawton/Fort Sill, OK', 'OK'], 'JAN': ['Jackson/Vicksburg, MS', 'MS'], 'LCH': ['Lake Charles, LA', 'LA'], 'MEI': ['Meridian, MS', 'MS'], 'PIB': ['Hattiesburg/Laurel, MS', 'MS'], 'HOB': ['Hobbs, NM', 'NM'], 'PNS': ['Pensacola, FL', 'FL'], 'BTV': ['Burlington, VT', 'VT'], 'GSO': ['Greensboro/High Point, NC', 'NC'], 'BRO': ['Brownsville, TX', 'TX'], 'HPN': ['White Plains, NY', 'NY'], 'AMA': ['Amarillo, TX', 'TX'], 'GRK': ['Killeen, TX', 'TX'], 'CRP': ['Corpus Christi, TX', 'TX'], 'ECP': ['Panama City, FL', 'FL'], 'VPS': ['Valparaiso, FL', 'FL'], 'CAE': ['Columbia, SC', 'SC'], 'GPT': ['Gulfport/Biloxi, MS', 'MS'], 'MLU': ['Monroe, LA', 'LA'], 'ROA': ['Roanoke, VA', 'VA'], 'OAJ': ['Jacksonville/Camp Lejeune, NC', 'NC'], 'GTR': ['Columbus, MS', 'MS'], 'PHF': ['Newport News/Williamsburg, VA', 'VA'], 'AGS': ['Augusta, GA', 'GA'], 'EYW': ['Key West, FL', 'FL'], 'CSG': ['Columbus, GA', 'GA'], 'GNV': ['Gainesville, FL', 'FL'], 'ABY': ['Albany, GA', 'GA'], 'EWN': ['New Bern/Morehead/Beaufort, NC', 'NC'], 'BQK': ['Brunswick, GA', 'GA'], 'VLD': ['Valdosta, GA', 'GA'], 'MLB': ['Melbourne, FL', 'FL'], 'ELM': ['Elmira/Corning, NY', 'NY'], 'TLH': ['Tallahassee, FL', 'FL'], 'HOU': ['Houston, TX', 'TX'], 'DAB': ['Daytona Beach, FL', 'FL'], 'PSE': ['Ponce, PR', 'PR'], 'ORH': ['Worcester, MA', 'MA'], 'ISP': ['Islip, NY', 'NY'], 'ADK': ['Adak Island, AK', 'AK'], 'SJT': ['San Angelo, TX', 'TX'], 'SUX': ['Sioux City, IA', 'IA'], 'BGR': ['Bangor, ME', 'ME'], 'ACK': ['Nantucket, MA', 'MA'], 'MVY': [\"Martha's Vineyard, MA\", 'MA'], 'WYS': ['West Yellowstone, MT', 'MT'], 'GRI': ['Grand Island, NE', 'NE'], 'JLN': ['Joplin, MO', 'MO'], 'EGE': ['Eagle, CO', 'CO'], 'GST': ['Gustavus, AK', 'AK'], 'AKN': ['King Salmon, AK', 'AK'], 'DLG': ['Dillingham, AK', 'AK'], 'MTJ': ['Montrose/Delta, CO', 'CO'], 'HYA': ['Hyannis, MA', 'MA'], 'GUC': ['Gunnison, CO', 'CO'], 'CKB': ['Clarksburg/Fairmont, WV', 'WV'], 'FNL': ['Fort Collins/Loveland, CO', 'CO'], 'CGI': ['Cape Girardeau, MO', 'MO'], 'UIN': ['Quincy, IL', 'IL'], 'PUB': ['Pueblo, CO', 'CO'], 'SWO': ['Stillwater, OK', 'OK'], 'ABI': ['Abilene, TX', 'TX'], 'MMH': ['Mammoth Lakes, CA', 'CA'], 'GGG': ['Longview, TX', 'TX'], 'TXK': ['Texarkana, AR', 'AR'], 'SPS': ['Wichita Falls, TX', 'TX'], 'DBQ': ['Dubuque, IA', 'IA'], 'CMI': ['Champaign/Urbana, IL', 'IL'], 'ACT': ['Waco, TX', 'TX'], 'GCK': ['Garden City, KS', 'KS'], 'BPT': ['Beaumont/Port Arthur, TX', 'TX'], 'HVN': ['New Haven, CT', 'CT'], 'SFB': ['Sanford, FL', 'FL'], 'PIE': ['St. Petersburg, FL', 'FL'], 'BLV': ['Belleville, IL', 'IL'], 'HGR': ['Hagerstown, MD', 'MD'], 'RFD': ['Rockford, IL', 'IL'], 'OWB': ['Owensboro, KY', 'KY'], 'HTS': ['Ashland, WV', 'WV'], 'PGD': ['Punta Gorda, FL', 'FL'], 'USA': ['CONCORD, NC', 'NC'], 'LCK': ['Columbus, OH', 'OH'], 'AZA': ['Phoenix, AZ', 'AZ'], 'OGD': ['Ogden, UT', 'UT'], 'PVU': ['Provo, UT', 'UT'], 'YNG': ['Youngstown/Warren, OH', 'OH'], 'SCK': ['Stockton, CA', 'CA'], 'SMX': ['Santa Maria, CA', 'CA'], 'PSM': ['Portsmouth, NH', 'NH'], 'OGS': ['Ogdensburg, NY', 'NY'], 'STC': ['St. Cloud, MN', 'MN'], 'LYH': ['Lynchburg, VA', 'VA'], 'BFF': ['Scottsbluff, NE', 'NE'], 'LBF': ['North Platte, NE', 'NE'], 'LBL': ['Liberal, KS', 'KS'], 'FLO': ['Florence, SC', 'SC'], 'PGV': ['Greenville, NC', 'NC'], 'LWB': ['Lewisburg, WV', 'WV'], 'SHD': ['Staunton, VA', 'VA'], 'SLN': ['Salina, KS', 'KS']}\n"
     ]
    }
   ],
   "source": [
    "import csv\n",
    "flights=open(\"/ufrc/zoo6927/share/Class_Files/data/flights.1K.csv\")\n",
    "\n",
    "\n",
    "reader = csv.DictReader(flights)\n",
    "\n",
    "Airport_dict={}\n",
    "\n",
    "# Read through the file and make a dictionary for airport codes.\n",
    "# This gets a unique list of airport codes.\n",
    "for Line in reader:\n",
    "    if Line['ORIGIN'] not in Airport_dict:\n",
    "        Airport_dict[Line['ORIGIN']]=[Line['ORIGIN_CITY_NAME'], Line['ORIGIN_STATE_ABR']]\n",
    "\n",
    "    if Line['DEST'] not in Airport_dict:\n",
    "        Airport_dict[Line['DEST']]=[Line['DEST_CITY_NAME'], Line['DEST_STATE_ABR']]\n",
    "\n",
    "print(Airport_dict)\n"
   ]
  },
  {
   "cell_type": "code",
   "execution_count": 50,
   "metadata": {},
   "outputs": [],
   "source": [
    "# Add the Airport_dict codes to the Airports table\n",
    "\n",
    "conn = engine.connect()\n",
    "\n",
    "def insert_airport(code,city,state):\n",
    "    ins=Airports.insert().values(Code=code,\n",
    "                                 City=city,\n",
    "                                 State=state)\n",
    "    result = conn.execute(ins)\n",
    "\n",
    "for key, value in Airport_dict.items(): \n",
    "    insert_airport(key, value[0], value[1])"
   ]
  },
  {
   "cell_type": "code",
   "execution_count": 51,
   "metadata": {},
   "outputs": [
    {
     "ename": "StatementError",
     "evalue": "(builtins.TypeError) SQLite DateTime type only accepts Python datetime and date objects as input. [SQL: 'INSERT INTO \"Flights\" (\"Fl_date\", \"Airline_ID\", \"Origin\", \"Destination\", \"Dep_Time\", \"Dep_Delay_New\", \"Arr_Time\", \"Arr_Delay_New\", \"Cancelled\", \"Cancellation_Code\", \"Diverted\", \"Air_Time\", \"Flights\", \"Distance\", \"Carrier_Delay\", \"Weather_Delay\", \"NAS_Delay\", \"Security_Delay\", \"Late_Aircraft_Delay\") VALUES (?, ?, ?, ?, ?, ?, ?, ?, ?, ?, ?, ?, ?, ?, ?, ?, ?, ?, ?)']",
     "output_type": "error",
     "traceback": [
      "\u001b[0;31m---------------------------------------------------------------------------\u001b[0m",
      "\u001b[0;31mTypeError\u001b[0m                                 Traceback (most recent call last)",
      "\u001b[0;32m/apps/python3/3.6.5/lib/python3.6/site-packages/sqlalchemy/engine/base.py\u001b[0m in \u001b[0;36m_execute_context\u001b[0;34m(self, dialect, constructor, statement, parameters, *args)\u001b[0m\n\u001b[1;32m   1126\u001b[0m \u001b[0;34m\u001b[0m\u001b[0m\n\u001b[0;32m-> 1127\u001b[0;31m             \u001b[0mcontext\u001b[0m \u001b[0;34m=\u001b[0m \u001b[0mconstructor\u001b[0m\u001b[0;34m(\u001b[0m\u001b[0mdialect\u001b[0m\u001b[0;34m,\u001b[0m \u001b[0mself\u001b[0m\u001b[0;34m,\u001b[0m \u001b[0mconn\u001b[0m\u001b[0;34m,\u001b[0m \u001b[0;34m*\u001b[0m\u001b[0margs\u001b[0m\u001b[0;34m)\u001b[0m\u001b[0;34m\u001b[0m\u001b[0m\n\u001b[0m\u001b[1;32m   1128\u001b[0m         \u001b[0;32mexcept\u001b[0m \u001b[0mBaseException\u001b[0m \u001b[0;32mas\u001b[0m \u001b[0me\u001b[0m\u001b[0;34m:\u001b[0m\u001b[0;34m\u001b[0m\u001b[0m\n",
      "\u001b[0;32m/apps/python3/3.6.5/lib/python3.6/site-packages/sqlalchemy/engine/default.py\u001b[0m in \u001b[0;36m_init_compiled\u001b[0;34m(cls, dialect, connection, dbapi_connection, compiled, parameters)\u001b[0m\n\u001b[1;32m    666\u001b[0m                     \u001b[0;32mif\u001b[0m \u001b[0mkey\u001b[0m \u001b[0;32min\u001b[0m \u001b[0mprocessors\u001b[0m\u001b[0;34m:\u001b[0m\u001b[0;34m\u001b[0m\u001b[0m\n\u001b[0;32m--> 667\u001b[0;31m                         \u001b[0mparam\u001b[0m\u001b[0;34m.\u001b[0m\u001b[0mappend\u001b[0m\u001b[0;34m(\u001b[0m\u001b[0mprocessors\u001b[0m\u001b[0;34m[\u001b[0m\u001b[0mkey\u001b[0m\u001b[0;34m]\u001b[0m\u001b[0;34m(\u001b[0m\u001b[0mcompiled_params\u001b[0m\u001b[0;34m[\u001b[0m\u001b[0mkey\u001b[0m\u001b[0;34m]\u001b[0m\u001b[0;34m)\u001b[0m\u001b[0;34m)\u001b[0m\u001b[0;34m\u001b[0m\u001b[0m\n\u001b[0m\u001b[1;32m    668\u001b[0m                     \u001b[0;32melse\u001b[0m\u001b[0;34m:\u001b[0m\u001b[0;34m\u001b[0m\u001b[0m\n",
      "\u001b[0;32m/apps/python3/3.6.5/lib/python3.6/site-packages/sqlalchemy/dialects/sqlite/base.py\u001b[0m in \u001b[0;36mprocess\u001b[0;34m(value)\u001b[0m\n\u001b[1;32m    609\u001b[0m             \u001b[0;32melse\u001b[0m\u001b[0;34m:\u001b[0m\u001b[0;34m\u001b[0m\u001b[0m\n\u001b[0;32m--> 610\u001b[0;31m                 raise TypeError(\"SQLite DateTime type only accepts Python \"\n\u001b[0m\u001b[1;32m    611\u001b[0m                                 \"datetime and date objects as input.\")\n",
      "\u001b[0;31mTypeError\u001b[0m: SQLite DateTime type only accepts Python datetime and date objects as input.",
      "\nThe above exception was the direct cause of the following exception:\n",
      "\u001b[0;31mStatementError\u001b[0m                            Traceback (most recent call last)",
      "\u001b[0;32m<ipython-input-51-75c2f7a9de3e>\u001b[0m in \u001b[0;36m<module>\u001b[0;34m()\u001b[0m\n\u001b[1;32m     32\u001b[0m \u001b[0;34m\u001b[0m\u001b[0m\n\u001b[1;32m     33\u001b[0m \u001b[0;34m\u001b[0m\u001b[0m\n\u001b[0;32m---> 34\u001b[0;31m     \u001b[0mresult\u001b[0m \u001b[0;34m=\u001b[0m \u001b[0mconn\u001b[0m\u001b[0;34m.\u001b[0m\u001b[0mexecute\u001b[0m\u001b[0;34m(\u001b[0m\u001b[0mins\u001b[0m\u001b[0;34m)\u001b[0m\u001b[0;34m\u001b[0m\u001b[0m\n\u001b[0m",
      "\u001b[0;32m/apps/python3/3.6.5/lib/python3.6/site-packages/sqlalchemy/engine/base.py\u001b[0m in \u001b[0;36mexecute\u001b[0;34m(self, object, *multiparams, **params)\u001b[0m\n\u001b[1;32m    946\u001b[0m             \u001b[0;32mraise\u001b[0m \u001b[0mexc\u001b[0m\u001b[0;34m.\u001b[0m\u001b[0mObjectNotExecutableError\u001b[0m\u001b[0;34m(\u001b[0m\u001b[0mobject\u001b[0m\u001b[0;34m)\u001b[0m\u001b[0;34m\u001b[0m\u001b[0m\n\u001b[1;32m    947\u001b[0m         \u001b[0;32melse\u001b[0m\u001b[0;34m:\u001b[0m\u001b[0;34m\u001b[0m\u001b[0m\n\u001b[0;32m--> 948\u001b[0;31m             \u001b[0;32mreturn\u001b[0m \u001b[0mmeth\u001b[0m\u001b[0;34m(\u001b[0m\u001b[0mself\u001b[0m\u001b[0;34m,\u001b[0m \u001b[0mmultiparams\u001b[0m\u001b[0;34m,\u001b[0m \u001b[0mparams\u001b[0m\u001b[0;34m)\u001b[0m\u001b[0;34m\u001b[0m\u001b[0m\n\u001b[0m\u001b[1;32m    949\u001b[0m \u001b[0;34m\u001b[0m\u001b[0m\n\u001b[1;32m    950\u001b[0m     \u001b[0;32mdef\u001b[0m \u001b[0m_execute_function\u001b[0m\u001b[0;34m(\u001b[0m\u001b[0mself\u001b[0m\u001b[0;34m,\u001b[0m \u001b[0mfunc\u001b[0m\u001b[0;34m,\u001b[0m \u001b[0mmultiparams\u001b[0m\u001b[0;34m,\u001b[0m \u001b[0mparams\u001b[0m\u001b[0;34m)\u001b[0m\u001b[0;34m:\u001b[0m\u001b[0;34m\u001b[0m\u001b[0m\n",
      "\u001b[0;32m/apps/python3/3.6.5/lib/python3.6/site-packages/sqlalchemy/sql/elements.py\u001b[0m in \u001b[0;36m_execute_on_connection\u001b[0;34m(self, connection, multiparams, params)\u001b[0m\n\u001b[1;32m    267\u001b[0m     \u001b[0;32mdef\u001b[0m \u001b[0m_execute_on_connection\u001b[0m\u001b[0;34m(\u001b[0m\u001b[0mself\u001b[0m\u001b[0;34m,\u001b[0m \u001b[0mconnection\u001b[0m\u001b[0;34m,\u001b[0m \u001b[0mmultiparams\u001b[0m\u001b[0;34m,\u001b[0m \u001b[0mparams\u001b[0m\u001b[0;34m)\u001b[0m\u001b[0;34m:\u001b[0m\u001b[0;34m\u001b[0m\u001b[0m\n\u001b[1;32m    268\u001b[0m         \u001b[0;32mif\u001b[0m \u001b[0mself\u001b[0m\u001b[0;34m.\u001b[0m\u001b[0msupports_execution\u001b[0m\u001b[0;34m:\u001b[0m\u001b[0;34m\u001b[0m\u001b[0m\n\u001b[0;32m--> 269\u001b[0;31m             \u001b[0;32mreturn\u001b[0m \u001b[0mconnection\u001b[0m\u001b[0;34m.\u001b[0m\u001b[0m_execute_clauseelement\u001b[0m\u001b[0;34m(\u001b[0m\u001b[0mself\u001b[0m\u001b[0;34m,\u001b[0m \u001b[0mmultiparams\u001b[0m\u001b[0;34m,\u001b[0m \u001b[0mparams\u001b[0m\u001b[0;34m)\u001b[0m\u001b[0;34m\u001b[0m\u001b[0m\n\u001b[0m\u001b[1;32m    270\u001b[0m         \u001b[0;32melse\u001b[0m\u001b[0;34m:\u001b[0m\u001b[0;34m\u001b[0m\u001b[0m\n\u001b[1;32m    271\u001b[0m             \u001b[0;32mraise\u001b[0m \u001b[0mexc\u001b[0m\u001b[0;34m.\u001b[0m\u001b[0mObjectNotExecutableError\u001b[0m\u001b[0;34m(\u001b[0m\u001b[0mself\u001b[0m\u001b[0;34m)\u001b[0m\u001b[0;34m\u001b[0m\u001b[0m\n",
      "\u001b[0;32m/apps/python3/3.6.5/lib/python3.6/site-packages/sqlalchemy/engine/base.py\u001b[0m in \u001b[0;36m_execute_clauseelement\u001b[0;34m(self, elem, multiparams, params)\u001b[0m\n\u001b[1;32m   1058\u001b[0m             \u001b[0mcompiled_sql\u001b[0m\u001b[0;34m,\u001b[0m\u001b[0;34m\u001b[0m\u001b[0m\n\u001b[1;32m   1059\u001b[0m             \u001b[0mdistilled_params\u001b[0m\u001b[0;34m,\u001b[0m\u001b[0;34m\u001b[0m\u001b[0m\n\u001b[0;32m-> 1060\u001b[0;31m             \u001b[0mcompiled_sql\u001b[0m\u001b[0;34m,\u001b[0m \u001b[0mdistilled_params\u001b[0m\u001b[0;34m\u001b[0m\u001b[0m\n\u001b[0m\u001b[1;32m   1061\u001b[0m         )\n\u001b[1;32m   1062\u001b[0m         \u001b[0;32mif\u001b[0m \u001b[0mself\u001b[0m\u001b[0;34m.\u001b[0m\u001b[0m_has_events\u001b[0m \u001b[0;32mor\u001b[0m \u001b[0mself\u001b[0m\u001b[0;34m.\u001b[0m\u001b[0mengine\u001b[0m\u001b[0;34m.\u001b[0m\u001b[0m_has_events\u001b[0m\u001b[0;34m:\u001b[0m\u001b[0;34m\u001b[0m\u001b[0m\n",
      "\u001b[0;32m/apps/python3/3.6.5/lib/python3.6/site-packages/sqlalchemy/engine/base.py\u001b[0m in \u001b[0;36m_execute_context\u001b[0;34m(self, dialect, constructor, statement, parameters, *args)\u001b[0m\n\u001b[1;32m   1130\u001b[0m                 \u001b[0me\u001b[0m\u001b[0;34m,\u001b[0m\u001b[0;34m\u001b[0m\u001b[0m\n\u001b[1;32m   1131\u001b[0m                 \u001b[0mutil\u001b[0m\u001b[0;34m.\u001b[0m\u001b[0mtext_type\u001b[0m\u001b[0;34m(\u001b[0m\u001b[0mstatement\u001b[0m\u001b[0;34m)\u001b[0m\u001b[0;34m,\u001b[0m \u001b[0mparameters\u001b[0m\u001b[0;34m,\u001b[0m\u001b[0;34m\u001b[0m\u001b[0m\n\u001b[0;32m-> 1132\u001b[0;31m                 None, None)\n\u001b[0m\u001b[1;32m   1133\u001b[0m \u001b[0;34m\u001b[0m\u001b[0m\n\u001b[1;32m   1134\u001b[0m         \u001b[0;32mif\u001b[0m \u001b[0mcontext\u001b[0m\u001b[0;34m.\u001b[0m\u001b[0mcompiled\u001b[0m\u001b[0;34m:\u001b[0m\u001b[0;34m\u001b[0m\u001b[0m\n",
      "\u001b[0;32m/apps/python3/3.6.5/lib/python3.6/site-packages/sqlalchemy/engine/base.py\u001b[0m in \u001b[0;36m_handle_dbapi_exception\u001b[0;34m(self, e, statement, parameters, cursor, context)\u001b[0m\n\u001b[1;32m   1411\u001b[0m                 util.raise_from_cause(\n\u001b[1;32m   1412\u001b[0m                     \u001b[0msqlalchemy_exception\u001b[0m\u001b[0;34m,\u001b[0m\u001b[0;34m\u001b[0m\u001b[0m\n\u001b[0;32m-> 1413\u001b[0;31m                     \u001b[0mexc_info\u001b[0m\u001b[0;34m\u001b[0m\u001b[0m\n\u001b[0m\u001b[1;32m   1414\u001b[0m                 )\n\u001b[1;32m   1415\u001b[0m             \u001b[0;32melse\u001b[0m\u001b[0;34m:\u001b[0m\u001b[0;34m\u001b[0m\u001b[0m\n",
      "\u001b[0;32m/apps/python3/3.6.5/lib/python3.6/site-packages/sqlalchemy/util/compat.py\u001b[0m in \u001b[0;36mraise_from_cause\u001b[0;34m(exception, exc_info)\u001b[0m\n\u001b[1;32m    201\u001b[0m     \u001b[0mexc_type\u001b[0m\u001b[0;34m,\u001b[0m \u001b[0mexc_value\u001b[0m\u001b[0;34m,\u001b[0m \u001b[0mexc_tb\u001b[0m \u001b[0;34m=\u001b[0m \u001b[0mexc_info\u001b[0m\u001b[0;34m\u001b[0m\u001b[0m\n\u001b[1;32m    202\u001b[0m     \u001b[0mcause\u001b[0m \u001b[0;34m=\u001b[0m \u001b[0mexc_value\u001b[0m \u001b[0;32mif\u001b[0m \u001b[0mexc_value\u001b[0m \u001b[0;32mis\u001b[0m \u001b[0;32mnot\u001b[0m \u001b[0mexception\u001b[0m \u001b[0;32melse\u001b[0m \u001b[0;32mNone\u001b[0m\u001b[0;34m\u001b[0m\u001b[0m\n\u001b[0;32m--> 203\u001b[0;31m     \u001b[0mreraise\u001b[0m\u001b[0;34m(\u001b[0m\u001b[0mtype\u001b[0m\u001b[0;34m(\u001b[0m\u001b[0mexception\u001b[0m\u001b[0;34m)\u001b[0m\u001b[0;34m,\u001b[0m \u001b[0mexception\u001b[0m\u001b[0;34m,\u001b[0m \u001b[0mtb\u001b[0m\u001b[0;34m=\u001b[0m\u001b[0mexc_tb\u001b[0m\u001b[0;34m,\u001b[0m \u001b[0mcause\u001b[0m\u001b[0;34m=\u001b[0m\u001b[0mcause\u001b[0m\u001b[0;34m)\u001b[0m\u001b[0;34m\u001b[0m\u001b[0m\n\u001b[0m\u001b[1;32m    204\u001b[0m \u001b[0;34m\u001b[0m\u001b[0m\n\u001b[1;32m    205\u001b[0m \u001b[0;32mif\u001b[0m \u001b[0mpy3k\u001b[0m\u001b[0;34m:\u001b[0m\u001b[0;34m\u001b[0m\u001b[0m\n",
      "\u001b[0;32m/apps/python3/3.6.5/lib/python3.6/site-packages/sqlalchemy/util/compat.py\u001b[0m in \u001b[0;36mreraise\u001b[0;34m(tp, value, tb, cause)\u001b[0m\n\u001b[1;32m    184\u001b[0m             \u001b[0mvalue\u001b[0m\u001b[0;34m.\u001b[0m\u001b[0m__cause__\u001b[0m \u001b[0;34m=\u001b[0m \u001b[0mcause\u001b[0m\u001b[0;34m\u001b[0m\u001b[0m\n\u001b[1;32m    185\u001b[0m         \u001b[0;32mif\u001b[0m \u001b[0mvalue\u001b[0m\u001b[0;34m.\u001b[0m\u001b[0m__traceback__\u001b[0m \u001b[0;32mis\u001b[0m \u001b[0;32mnot\u001b[0m \u001b[0mtb\u001b[0m\u001b[0;34m:\u001b[0m\u001b[0;34m\u001b[0m\u001b[0m\n\u001b[0;32m--> 186\u001b[0;31m             \u001b[0;32mraise\u001b[0m \u001b[0mvalue\u001b[0m\u001b[0;34m.\u001b[0m\u001b[0mwith_traceback\u001b[0m\u001b[0;34m(\u001b[0m\u001b[0mtb\u001b[0m\u001b[0;34m)\u001b[0m\u001b[0;34m\u001b[0m\u001b[0m\n\u001b[0m\u001b[1;32m    187\u001b[0m         \u001b[0;32mraise\u001b[0m \u001b[0mvalue\u001b[0m\u001b[0;34m\u001b[0m\u001b[0m\n\u001b[1;32m    188\u001b[0m \u001b[0;34m\u001b[0m\u001b[0m\n",
      "\u001b[0;32m/apps/python3/3.6.5/lib/python3.6/site-packages/sqlalchemy/engine/base.py\u001b[0m in \u001b[0;36m_execute_context\u001b[0;34m(self, dialect, constructor, statement, parameters, *args)\u001b[0m\n\u001b[1;32m   1125\u001b[0m                 \u001b[0mconn\u001b[0m \u001b[0;34m=\u001b[0m \u001b[0mself\u001b[0m\u001b[0;34m.\u001b[0m\u001b[0m_revalidate_connection\u001b[0m\u001b[0;34m(\u001b[0m\u001b[0;34m)\u001b[0m\u001b[0;34m\u001b[0m\u001b[0m\n\u001b[1;32m   1126\u001b[0m \u001b[0;34m\u001b[0m\u001b[0m\n\u001b[0;32m-> 1127\u001b[0;31m             \u001b[0mcontext\u001b[0m \u001b[0;34m=\u001b[0m \u001b[0mconstructor\u001b[0m\u001b[0;34m(\u001b[0m\u001b[0mdialect\u001b[0m\u001b[0;34m,\u001b[0m \u001b[0mself\u001b[0m\u001b[0;34m,\u001b[0m \u001b[0mconn\u001b[0m\u001b[0;34m,\u001b[0m \u001b[0;34m*\u001b[0m\u001b[0margs\u001b[0m\u001b[0;34m)\u001b[0m\u001b[0;34m\u001b[0m\u001b[0m\n\u001b[0m\u001b[1;32m   1128\u001b[0m         \u001b[0;32mexcept\u001b[0m \u001b[0mBaseException\u001b[0m \u001b[0;32mas\u001b[0m \u001b[0me\u001b[0m\u001b[0;34m:\u001b[0m\u001b[0;34m\u001b[0m\u001b[0m\n\u001b[1;32m   1129\u001b[0m             self._handle_dbapi_exception(\n",
      "\u001b[0;32m/apps/python3/3.6.5/lib/python3.6/site-packages/sqlalchemy/engine/default.py\u001b[0m in \u001b[0;36m_init_compiled\u001b[0;34m(cls, dialect, connection, dbapi_connection, compiled, parameters)\u001b[0m\n\u001b[1;32m    665\u001b[0m                 \u001b[0;32mfor\u001b[0m \u001b[0mkey\u001b[0m \u001b[0;32min\u001b[0m \u001b[0mpositiontup\u001b[0m\u001b[0;34m:\u001b[0m\u001b[0;34m\u001b[0m\u001b[0m\n\u001b[1;32m    666\u001b[0m                     \u001b[0;32mif\u001b[0m \u001b[0mkey\u001b[0m \u001b[0;32min\u001b[0m \u001b[0mprocessors\u001b[0m\u001b[0;34m:\u001b[0m\u001b[0;34m\u001b[0m\u001b[0m\n\u001b[0;32m--> 667\u001b[0;31m                         \u001b[0mparam\u001b[0m\u001b[0;34m.\u001b[0m\u001b[0mappend\u001b[0m\u001b[0;34m(\u001b[0m\u001b[0mprocessors\u001b[0m\u001b[0;34m[\u001b[0m\u001b[0mkey\u001b[0m\u001b[0;34m]\u001b[0m\u001b[0;34m(\u001b[0m\u001b[0mcompiled_params\u001b[0m\u001b[0;34m[\u001b[0m\u001b[0mkey\u001b[0m\u001b[0;34m]\u001b[0m\u001b[0;34m)\u001b[0m\u001b[0;34m)\u001b[0m\u001b[0;34m\u001b[0m\u001b[0m\n\u001b[0m\u001b[1;32m    668\u001b[0m                     \u001b[0;32melse\u001b[0m\u001b[0;34m:\u001b[0m\u001b[0;34m\u001b[0m\u001b[0m\n\u001b[1;32m    669\u001b[0m                         \u001b[0mparam\u001b[0m\u001b[0;34m.\u001b[0m\u001b[0mappend\u001b[0m\u001b[0;34m(\u001b[0m\u001b[0mcompiled_params\u001b[0m\u001b[0;34m[\u001b[0m\u001b[0mkey\u001b[0m\u001b[0;34m]\u001b[0m\u001b[0;34m)\u001b[0m\u001b[0;34m\u001b[0m\u001b[0m\n",
      "\u001b[0;32m/apps/python3/3.6.5/lib/python3.6/site-packages/sqlalchemy/dialects/sqlite/base.py\u001b[0m in \u001b[0;36mprocess\u001b[0;34m(value)\u001b[0m\n\u001b[1;32m    608\u001b[0m                 }\n\u001b[1;32m    609\u001b[0m             \u001b[0;32melse\u001b[0m\u001b[0;34m:\u001b[0m\u001b[0;34m\u001b[0m\u001b[0m\n\u001b[0;32m--> 610\u001b[0;31m                 raise TypeError(\"SQLite DateTime type only accepts Python \"\n\u001b[0m\u001b[1;32m    611\u001b[0m                                 \"datetime and date objects as input.\")\n\u001b[1;32m    612\u001b[0m         \u001b[0;32mreturn\u001b[0m \u001b[0mprocess\u001b[0m\u001b[0;34m\u001b[0m\u001b[0m\n",
      "\u001b[0;31mStatementError\u001b[0m: (builtins.TypeError) SQLite DateTime type only accepts Python datetime and date objects as input. [SQL: 'INSERT INTO \"Flights\" (\"Fl_date\", \"Airline_ID\", \"Origin\", \"Destination\", \"Dep_Time\", \"Dep_Delay_New\", \"Arr_Time\", \"Arr_Delay_New\", \"Cancelled\", \"Cancellation_Code\", \"Diverted\", \"Air_Time\", \"Flights\", \"Distance\", \"Carrier_Delay\", \"Weather_Delay\", \"NAS_Delay\", \"Security_Delay\", \"Late_Aircraft_Delay\") VALUES (?, ?, ?, ?, ?, ?, ?, ?, ?, ?, ?, ?, ?, ?, ?, ?, ?, ?, ?)']"
     ]
    }
   ],
   "source": [
    "# Close the file\n",
    "flights.close()\n",
    "\n",
    "# Re-open to get flight data\n",
    "\n",
    "flights=open(\"/ufrc/zoo6927/share/Class_Files/data/flights.1K.csv\")\n",
    "\n",
    "\n",
    "reader = csv.DictReader(flights)\n",
    "for Line in reader:\n",
    "\n",
    "    ins=Flights.insert().values(Fl_date=Line['FL_DATE'],\n",
    "                                Airline_ID = Line['AIRLINE_ID'],\n",
    "                                Origin = Line['ORIGIN'],\n",
    "                                Destination = Line['DEST'],\n",
    "                                Dep_Time = Line['DEP_TIME'],\n",
    "                                Dep_Delay_New = Line['DEP_DELAY_NEW'],\n",
    "                                Arr_Time = Line['ARR_TIME'],\n",
    "                                Arr_Delay_New = Line['ARR_DELAY_NEW'],\n",
    "                                Cancelled = Line['CANCELLED'],\n",
    "                                Cancellation_Code = Line['CANCELLATION_CODE'],\n",
    "                                Diverted = Line['DIVERTED'],\n",
    "                                Air_Time = Line['AIR_TIME'],\n",
    "                                Flights = Line['FLIGHTS'],\n",
    "                                Distance = Line['DISTANCE'],\n",
    "                                Carrier_Delay = Line['CARRIER_DELAY'],\n",
    "                                Weather_Delay = Line['WEATHER_DELAY'],\n",
    "                                NAS_Delay = Line['NAS_DELAY'],\n",
    "                                Security_Delay = Line['SECURITY_DELAY'],\n",
    "                                Late_Aircraft_Delay = Line['LATE_AIRCRAFT_DELAY']\n",
    "                                          )\n",
    "                                          \n",
    "\n",
    "    result = conn.execute(ins)\n"
   ]
  },
  {
   "cell_type": "markdown",
   "metadata": {},
   "source": [
    "# Fixing the date time error above\n",
    "\n",
    "The error above states: `SQLite DateTime type only accepts Python datetime and date objects as input.`\n",
    "\n",
    "That's because we defined the column as having a DateTime data type. We could take the easy way out and go with a string, but that's not the best...\n",
    "\n",
    "So, to convert the string '2017-05-01' to a date, let's use this StackOverflow post: https://stackoverflow.com/questions/31326834/faster-csv-loading-with-datetime-index-pandas/36800960#36800960\n",
    "\n",
    "## Also fixed the Booleans:\n",
    "\n",
    "We defined Canceled and Diverted as Booleans. Typically these are 0s or 1s (sometimes True and False). But either in the original data source, or in some processing I did of the file, these were changed to 0.00 and 1.00.\n",
    "\n",
    "Not a huge deal, but if you try to do `int((Line['CANCELLED']))` you get the error:\n",
    "\n",
    "```python\n",
    "ValueError: invalid literal for int() with base 10: '0.00'\n",
    "```\n",
    "\n",
    "That's because the 0.00 is a string (notice the quotes around it) and you can't get an int of a string representations of a float...\n",
    "\n",
    "But you *can* turn a string into a float... `float((Line['CANCELLED']))` and you *can* get and int of a float. So, it's a two step process, which can be combined into one with: `Cancelled = int(float((Line['CANCELLED'])))`"
   ]
  },
  {
   "cell_type": "code",
   "execution_count": null,
   "metadata": {},
   "outputs": [],
   "source": [
    "import datetime\n",
    "import pandas as pd\n",
    "\n",
    "def to_date(dates, lookup=False, **args):\n",
    "    if lookup:\n",
    "        return dates.map({v: pd.to_datetime(v, **args) for v in dates.unique()})\n",
    "    return pd.to_datetime(dates, **args)\n",
    "\n",
    "\n",
    "# Close the file\n",
    "flights.close()\n",
    "\n",
    "# Re-open to get flight data\n",
    "\n",
    "flights=open(\"/ufrc/zoo6927/share/Class_Files/data/flights.1K.csv\")\n",
    "reader = csv.DictReader(flights)\n",
    "for Line in reader:\n",
    "\n",
    "    ins=Flights.insert().values(Fl_date=to_date(Line['FL_DATE']),\n",
    "                                Airline_ID = Line['AIRLINE_ID'],\n",
    "                                Origin = Line['ORIGIN'],\n",
    "                                Destination = Line['DEST'],\n",
    "                                Dep_Time = Line['DEP_TIME'],\n",
    "                                Dep_Delay_New = Line['DEP_DELAY_NEW'],\n",
    "                                Arr_Time = Line['ARR_TIME'],\n",
    "                                Arr_Delay_New = Line['ARR_DELAY_NEW'],\n",
    "                                Cancelled = int(float((Line['CANCELLED']))),\n",
    "                                Cancellation_Code = Line['CANCELLATION_CODE'],\n",
    "                                Diverted = int(float((Line['DIVERTED']))),\n",
    "                                Air_Time = Line['AIR_TIME'],\n",
    "                                Flights = Line['FLIGHTS'],\n",
    "                                Distance = Line['DISTANCE'],\n",
    "                                Carrier_Delay = Line['CARRIER_DELAY'],\n",
    "                                Weather_Delay = Line['WEATHER_DELAY'],\n",
    "                                NAS_Delay = Line['NAS_DELAY'],\n",
    "                                Security_Delay = Line['SECURITY_DELAY'],\n",
    "                                Late_Aircraft_Delay = Line['LATE_AIRCRAFT_DELAY']\n",
    "                                          )\n",
    "    result = conn.execute(ins)"
   ]
  },
  {
   "cell_type": "code",
   "execution_count": null,
   "metadata": {},
   "outputs": [],
   "source": []
  }
 ],
 "metadata": {
  "kernelspec": {
   "display_name": "RC Py3-3.6.5",
   "language": "python",
   "name": "python3-ufrc-3.6.5"
  },
  "language_info": {
   "codemirror_mode": {
    "name": "ipython",
    "version": 3
   },
   "file_extension": ".py",
   "mimetype": "text/x-python",
   "name": "python",
   "nbconvert_exporter": "python",
   "pygments_lexer": "ipython3",
   "version": "3.6.5"
  }
 },
 "nbformat": 4,
 "nbformat_minor": 2
}
