{
 "cells": [
  {
   "cell_type": "markdown",
   "metadata": {},
   "source": [
    "# Flights to SQlite database\n",
    "\n",
    "Using https://jhub.rc.ufl.edu we can only access /home, so make a symbolic link to the flights file on command line:\n",
    "```bash\n",
    "ln -s /ufrc/zoo6927/share/Class_Files/data/flights.May2017-Apr2018.csv .\n",
    "```"
   ]
  },
  {
   "cell_type": "code",
   "execution_count": 10,
   "metadata": {},
   "outputs": [
    {
     "name": "stdout",
     "output_type": "stream",
     "text": [
      "6156045\n"
     ]
    }
   ],
   "source": [
    "# quick check that this worked\n",
    "\n",
    "flights=open(\"/ufrc/zoo6927/share/Class_Files/data/flights.May2017-Apr2018.csv\")\n",
    "\n",
    "count=0\n",
    "for Line in flights:\n",
    "    count+=1\n",
    "print(count)\n",
    "\n",
    "flights.close()"
   ]
  },
  {
   "cell_type": "markdown",
   "metadata": {},
   "source": [
    "Here's the metadata from the flights file: https://github.com/CompTools/Class_Files/blob/master/data/flights_metadata.md\n"
   ]
  },
  {
   "cell_type": "code",
   "execution_count": 9,
   "metadata": {},
   "outputs": [],
   "source": [
    "from sqlalchemy import create_engine\n",
    "from sqlalchemy import Table, Column, Integer, String, MetaData, ForeignKey\n",
    "from sqlalchemy import DateTime, Boolean\n",
    "\n",
    "# Create a sqlite database \n",
    "engine = create_engine('sqlite:///zoo6927/flights.sqlite')\n",
    "\n",
    "metadata=MetaData()\n",
    "Airports = Table ('Airports', metadata,\n",
    "                Column('ID', Integer, autoincrement=True),\n",
    "                Column('Code', String, primary_key=True),\n",
    "                Column('City', String),\n",
    "                Column('State', String),\n",
    "                Column('Name', String),\n",
    "               )\n",
    "Flights = Table ('Flights', metadata,\n",
    "                 Column('Fl_date', DateTime),\n",
    "                 Column('Origin', String, ForeignKey(\"Airports.Code\")),\n",
    "                 Column('Destination', String, ForeignKey(\"Airports.Code\")),\n",
    "                 Column('Dep_Time', String),\n",
    "                 Column('Dep_Delay_New', Integer),\n",
    "                 Column('Arr_Time', String),\n",
    "                 Column('Arr_Delay_New', Integer),\n",
    "                 Column('Cancelled', Boolean),\n",
    "                 Column('Cancellation_code', String),\n",
    "                )\n",
    "                 \n",
    "metadata.create_all(engine)"
   ]
  },
  {
   "cell_type": "code",
   "execution_count": null,
   "metadata": {},
   "outputs": [],
   "source": [
    "import csv\n",
    "flights=open(\"/ufrc/zoo6927/share/Class_Files/data/flights.May2017-Apr2018.csv\")\n",
    "\n",
    "for Line in flights:\n",
    "    reader = csv.DictReader(flights)\n",
    "    ins=Airports.insert().values(Code=Line['ORIGIN'], Name=Line['ORIGIN_CITY_NAME]')\n",
    "\n",
    "result = conn.execute(ins)"
   ]
  }
 ],
 "metadata": {
  "kernelspec": {
   "display_name": "RC Py3-3.6.5",
   "language": "python",
   "name": "python3-ufrc-3.6.5"
  },
  "language_info": {
   "codemirror_mode": {
    "name": "ipython",
    "version": 3
   },
   "file_extension": ".py",
   "mimetype": "text/x-python",
   "name": "python",
   "nbconvert_exporter": "python",
   "pygments_lexer": "ipython3",
   "version": "3.6.5"
  }
 },
 "nbformat": 4,
 "nbformat_minor": 2
}
