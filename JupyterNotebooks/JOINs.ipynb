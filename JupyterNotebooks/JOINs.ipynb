{
 "cells": [
  {
   "cell_type": "markdown",
   "metadata": {},
   "source": [
    "# Another look a JOINs\n",
    "\n",
    "I've gotten a lot of questions about JOINs, so I think I didn't cover them very well. Here are some additional examples and information.\n",
    "\n"
   ]
  },
  {
   "cell_type": "markdown",
   "metadata": {},
   "source": [
    "# Examples of JOINs\n",
    "\n",
    "This [PySheets page](https://www.pythonsheets.com/notes/python-sqlalchemy.html) has some good examples of sqlalchemy code that may come in handy.\n",
    "\n",
    "The examples below combine some of the examples from there and add some additional examples to try to help explain joins and how they work.\n",
    "\n",
    "I did change the names to make it a bit easier to follow the examples.\n",
    "\n",
    "\n",
    "## Setup the database:"
   ]
  },
  {
   "cell_type": "code",
   "execution_count": 3,
   "metadata": {},
   "outputs": [
    {
     "name": "stderr",
     "output_type": "stream",
     "text": [
      "/apps/jupyterhub/0.9.2/lib/python3.6/site-packages/ipykernel_launcher.py:32: SADeprecationWarning: reflect=True is deprecate; please use the reflect() method.\n"
     ]
    },
    {
     "data": {
      "text/plain": [
       "<sqlalchemy.engine.result.ResultProxy at 0x2b3af8792668>"
      ]
     },
     "execution_count": 3,
     "metadata": {},
     "output_type": "execute_result"
    }
   ],
   "source": [
    "from sqlalchemy import create_engine\n",
    "from sqlalchemy import MetaData\n",
    "from sqlalchemy import Table\n",
    "from sqlalchemy import Column\n",
    "from sqlalchemy import Integer\n",
    "from sqlalchemy import String\n",
    "from sqlalchemy import select\n",
    "\n",
    "db_uri = 'sqlite:///db.sqlite'\n",
    "engine = create_engine(db_uri)\n",
    "\n",
    "# create table\n",
    "meta = MetaData(engine)\n",
    "table = Table('user', meta,\n",
    "   Column('id', Integer, primary_key=True),\n",
    "   Column('l_name', String),\n",
    "   Column('f_name', String))\n",
    "meta.create_all()\n",
    "\n",
    "# insert data via insert() construct\n",
    "ins = table.insert().values(\n",
    "      l_name='Jones',\n",
    "      f_name='Fred')\n",
    "conn = engine.connect()\n",
    "conn.execute(ins)\n",
    "\n",
    "# insert multiple data\n",
    "conn.execute(table.insert(),[\n",
    "   {'l_name':'Smith','f_name':'Mary'},\n",
    "   {'l_name':'Lopez','f_name':'Victor'}])\n",
    "\n",
    "meta = MetaData(engine, reflect=True)\n",
    "email_t = Table('email_addr', meta,\n",
    "      Column('id', Integer, primary_key=True),\n",
    "      Column('email',String),\n",
    "      Column('name',String))\n",
    "meta.create_all()\n",
    "\n",
    "# ** Note **: This is in this format because I am combining\n",
    "#   a couple of examples from the original source. \"table\" already\n",
    "#   has this information, but I left it here to serve as an example\n",
    "#   of loading a table from meta.\n",
    "\n",
    "# get user table\n",
    "user_t = meta.tables['user']\n",
    "\n",
    "# insert\n",
    "conn = engine.connect()\n",
    "conn.execute(email_t.insert(),[\n",
    "   {'email':'ker@test','name':'Smith'},\n",
    "   {'email':'yo@test','name':'Lopez'},\n",
    "   {'email':'fun@name','name':'Johnson'}])\n"
   ]
  },
  {
   "cell_type": "markdown",
   "metadata": {},
   "source": [
    "## Check the data in the tables"
   ]
  },
  {
   "cell_type": "code",
   "execution_count": 5,
   "metadata": {},
   "outputs": [
    {
     "name": "stdout",
     "output_type": "stream",
     "text": [
      "(1, 'Jones', 'Fred')\n",
      "(2, 'Smith', 'Mary')\n",
      "(3, 'Lopez', 'Victor')\n"
     ]
    }
   ],
   "source": [
    "# select * from 'user_t'\n",
    "select_st = select([user_t])\n",
    "res = conn.execute(select_st)\n",
    "for _row in res:\n",
    "    print(_row)\n"
   ]
  },
  {
   "cell_type": "code",
   "execution_count": 6,
   "metadata": {},
   "outputs": [
    {
     "name": "stdout",
     "output_type": "stream",
     "text": [
      "(1, 'ker@test', 'Smith')\n",
      "(2, 'yo@test', 'Lopez')\n",
      "(3, 'fun@name', 'Johnson')\n"
     ]
    }
   ],
   "source": [
    "# select * from 'email_t'\n",
    "select_st = select([email_t])\n",
    "res = conn.execute(select_st)\n",
    "for _row in res:\n",
    "    print(_row)"
   ]
  },
  {
   "cell_type": "markdown",
   "metadata": {},
   "source": [
    "## Non-overlapping data\n",
    "\n",
    "Notice that I have added some non-overlapping data in each of the tables. There is no email for Fred Jones and no user for fun@name, Johnson.\n",
    "\n",
    "This will let us see how JOINs work.\n",
    "\n",
    "## JOIN\n",
    "Let's start with a simple JOIN. The PySheets page does this in two steps, creating a `join_obj` and then the `sel_st`:"
   ]
  },
  {
   "cell_type": "code",
   "execution_count": 7,
   "metadata": {},
   "outputs": [
    {
     "name": "stdout",
     "output_type": "stream",
     "text": [
      "('Smith', 'ker@test')\n",
      "('Lopez', 'yo@test')\n"
     ]
    }
   ],
   "source": [
    "# join statement\n",
    "join_obj = user_t.join(email_t,\n",
    "           email_t.c.name == user_t.c.l_name)\n",
    "\n",
    "# using select_from\n",
    "sel_st = select(\n",
    "   [user_t.c.l_name, email_t.c.email]).select_from(join_obj)\n",
    "\n",
    "res = conn.execute(sel_st)\n",
    "for _row in res:\n",
    "    print(_row)"
   ]
  },
  {
   "cell_type": "markdown",
   "metadata": {},
   "source": [
    "You *can* put it all together, but the statements can get long..."
   ]
  },
  {
   "cell_type": "code",
   "execution_count": 8,
   "metadata": {},
   "outputs": [
    {
     "name": "stdout",
     "output_type": "stream",
     "text": [
      "('Smith', 'ker@test')\n",
      "('Lopez', 'yo@test')\n"
     ]
    }
   ],
   "source": [
    "# First, let's rewrite the JOIN above into a single statement\n",
    "\n",
    "# using select_from\n",
    "sel_st = select(\n",
    "   [user_t.c.l_name, email_t.c.email]).select_from(user_t.join(email_t,\n",
    "           email_t.c.name == user_t.c.l_name))\n",
    "\n",
    "\n",
    "res = conn.execute(sel_st)\n",
    "for _row in res:\n",
    "    print(_row)"
   ]
  },
  {
   "cell_type": "markdown",
   "metadata": {},
   "source": [
    "# JOIN vs SELECT WHERE\n",
    "\n",
    "SELECT WHERE and JOIN can often produce the same results. \n",
    "\n",
    "We can \"join\" the tables together using the columns and selecting the data where the `l_name` in the users table matches the `name` in the email table. \n",
    "\n",
    "There is some discussion of this on the \"authoritative\" source...Wikipedia: https://en.wikipedia.org/wiki/Join_(SQL)\n"
   ]
  },
  {
   "cell_type": "code",
   "execution_count": 9,
   "metadata": {},
   "outputs": [
    {
     "name": "stdout",
     "output_type": "stream",
     "text": [
      "('Smith', 'ker@test')\n",
      "('Lopez', 'yo@test')\n"
     ]
    }
   ],
   "source": [
    "sel_st = select([user_t.c.l_name, email_t.c.email]).where(user_t.c.l_name==email_t.c.name)\n",
    "\n",
    "res = conn.execute(sel_st)\n",
    "for _row in res:\n",
    "    print(_row)"
   ]
  },
  {
   "cell_type": "markdown",
   "metadata": {},
   "source": [
    "# But...\n",
    "\n",
    "But remember the non-overlapping data? SELECT WHERE can't get us that data.\n",
    "\n",
    "A plain JOIN doesn't return that data, but there are many types of joins.\n",
    "\n",
    "Remember this picture:\n",
    "\n",
    "![Visual SQL JOINs](https://www.codeproject.com/KB/database/Visual_SQL_Joins/Visual_SQL_JOINS_orig.jpg)\n",
    "\n",
    "\n",
    "A regular join is an inner join--we only get the results where the tables overlap.\n",
    "\n",
    "\n",
    "## Outer JOIN"
   ]
  },
  {
   "cell_type": "code",
   "execution_count": 10,
   "metadata": {},
   "outputs": [
    {
     "name": "stdout",
     "output_type": "stream",
     "text": [
      "('Jones', None)\n",
      "('Smith', 'ker@test')\n",
      "('Lopez', 'yo@test')\n"
     ]
    }
   ],
   "source": [
    "# Outer join (inferred to be a left join-- user_t is 1st, so left)\n",
    "\n",
    "join_obj= user_t.outerjoin(email_t,\n",
    "                user_t.c.l_name == email_t.c.name)\n",
    "\n",
    "sel_st = select(\n",
    "   [user_t.c.l_name, email_t.c.email]).select_from(join_obj)\n",
    "\n",
    "res = conn.execute(sel_st)\n",
    "\n",
    "for _row in res:\n",
    "    print(_row)"
   ]
  },
  {
   "cell_type": "markdown",
   "metadata": {},
   "source": [
    "Notice the 1st line of the output:\n",
    "\n",
    "`('Jones', None)`\n",
    "\n",
    "We get the name from the left table (user_t), but there isn't a corresponding entry in the email_t table, so we get \"None\"."
   ]
  },
  {
   "cell_type": "code",
   "execution_count": 11,
   "metadata": {},
   "outputs": [
    {
     "name": "stdout",
     "output_type": "stream",
     "text": [
      "('Jones', None)\n",
      "('Smith', 'ker@test')\n",
      "('Lopez', 'yo@test')\n"
     ]
    }
   ],
   "source": [
    "# Outer join, same as above but using the isouter syntax\n",
    "\n",
    "join_obj= user_t.join(email_t,\n",
    "                user_t.c.l_name == email_t.c.name, isouter=True)\n",
    "\n",
    "sel_st = select(\n",
    "   [user_t.c.l_name, email_t.c.email]).select_from(join_obj)\n",
    "\n",
    "res = conn.execute(sel_st)\n",
    "\n",
    "for _row in res:\n",
    "    print(_row)\n"
   ]
  },
  {
   "cell_type": "code",
   "execution_count": 13,
   "metadata": {},
   "outputs": [
    {
     "ename": "OperationalError",
     "evalue": "(sqlite3.OperationalError) RIGHT and FULL OUTER JOINs are not currently supported [SQL: 'SELECT user.l_name, email_addr.email \\nFROM user FULL OUTER JOIN email_addr ON user.l_name = email_addr.name'] (Background on this error at: http://sqlalche.me/e/e3q8)",
     "output_type": "error",
     "traceback": [
      "\u001b[0;31m---------------------------------------------------------------------------\u001b[0m",
      "\u001b[0;31mOperationalError\u001b[0m                          Traceback (most recent call last)",
      "\u001b[0;32m/apps/jupyterhub/0.9.2/lib/python3.6/site-packages/sqlalchemy/engine/base.py\u001b[0m in \u001b[0;36m_execute_context\u001b[0;34m(self, dialect, constructor, statement, parameters, *args)\u001b[0m\n\u001b[1;32m   1192\u001b[0m                         \u001b[0mparameters\u001b[0m\u001b[0;34m,\u001b[0m\u001b[0;34m\u001b[0m\u001b[0m\n\u001b[0;32m-> 1193\u001b[0;31m                         context)\n\u001b[0m\u001b[1;32m   1194\u001b[0m         \u001b[0;32mexcept\u001b[0m \u001b[0mBaseException\u001b[0m \u001b[0;32mas\u001b[0m \u001b[0me\u001b[0m\u001b[0;34m:\u001b[0m\u001b[0;34m\u001b[0m\u001b[0m\n",
      "\u001b[0;32m/apps/jupyterhub/0.9.2/lib/python3.6/site-packages/sqlalchemy/engine/default.py\u001b[0m in \u001b[0;36mdo_execute\u001b[0;34m(self, cursor, statement, parameters, context)\u001b[0m\n\u001b[1;32m    508\u001b[0m     \u001b[0;32mdef\u001b[0m \u001b[0mdo_execute\u001b[0m\u001b[0;34m(\u001b[0m\u001b[0mself\u001b[0m\u001b[0;34m,\u001b[0m \u001b[0mcursor\u001b[0m\u001b[0;34m,\u001b[0m \u001b[0mstatement\u001b[0m\u001b[0;34m,\u001b[0m \u001b[0mparameters\u001b[0m\u001b[0;34m,\u001b[0m \u001b[0mcontext\u001b[0m\u001b[0;34m=\u001b[0m\u001b[0;32mNone\u001b[0m\u001b[0;34m)\u001b[0m\u001b[0;34m:\u001b[0m\u001b[0;34m\u001b[0m\u001b[0m\n\u001b[0;32m--> 509\u001b[0;31m         \u001b[0mcursor\u001b[0m\u001b[0;34m.\u001b[0m\u001b[0mexecute\u001b[0m\u001b[0;34m(\u001b[0m\u001b[0mstatement\u001b[0m\u001b[0;34m,\u001b[0m \u001b[0mparameters\u001b[0m\u001b[0;34m)\u001b[0m\u001b[0;34m\u001b[0m\u001b[0m\n\u001b[0m\u001b[1;32m    510\u001b[0m \u001b[0;34m\u001b[0m\u001b[0m\n",
      "\u001b[0;31mOperationalError\u001b[0m: RIGHT and FULL OUTER JOINs are not currently supported",
      "\nThe above exception was the direct cause of the following exception:\n",
      "\u001b[0;31mOperationalError\u001b[0m                          Traceback (most recent call last)",
      "\u001b[0;32m<ipython-input-13-cb17655b76bb>\u001b[0m in \u001b[0;36m<module>\u001b[0;34m()\u001b[0m\n\u001b[1;32m      7\u001b[0m    [user_t.c.l_name, email_t.c.email]).select_from(join_obj)\n\u001b[1;32m      8\u001b[0m \u001b[0;34m\u001b[0m\u001b[0m\n\u001b[0;32m----> 9\u001b[0;31m \u001b[0mres\u001b[0m \u001b[0;34m=\u001b[0m \u001b[0mconn\u001b[0m\u001b[0;34m.\u001b[0m\u001b[0mexecute\u001b[0m\u001b[0;34m(\u001b[0m\u001b[0msel_st\u001b[0m\u001b[0;34m)\u001b[0m\u001b[0;34m\u001b[0m\u001b[0m\n\u001b[0m\u001b[1;32m     10\u001b[0m \u001b[0;34m\u001b[0m\u001b[0m\n\u001b[1;32m     11\u001b[0m \u001b[0;32mfor\u001b[0m \u001b[0m_row\u001b[0m \u001b[0;32min\u001b[0m \u001b[0mres\u001b[0m\u001b[0;34m:\u001b[0m\u001b[0;34m\u001b[0m\u001b[0m\n",
      "\u001b[0;32m/apps/jupyterhub/0.9.2/lib/python3.6/site-packages/sqlalchemy/engine/base.py\u001b[0m in \u001b[0;36mexecute\u001b[0;34m(self, object, *multiparams, **params)\u001b[0m\n\u001b[1;32m    946\u001b[0m             \u001b[0;32mraise\u001b[0m \u001b[0mexc\u001b[0m\u001b[0;34m.\u001b[0m\u001b[0mObjectNotExecutableError\u001b[0m\u001b[0;34m(\u001b[0m\u001b[0mobject\u001b[0m\u001b[0;34m)\u001b[0m\u001b[0;34m\u001b[0m\u001b[0m\n\u001b[1;32m    947\u001b[0m         \u001b[0;32melse\u001b[0m\u001b[0;34m:\u001b[0m\u001b[0;34m\u001b[0m\u001b[0m\n\u001b[0;32m--> 948\u001b[0;31m             \u001b[0;32mreturn\u001b[0m \u001b[0mmeth\u001b[0m\u001b[0;34m(\u001b[0m\u001b[0mself\u001b[0m\u001b[0;34m,\u001b[0m \u001b[0mmultiparams\u001b[0m\u001b[0;34m,\u001b[0m \u001b[0mparams\u001b[0m\u001b[0;34m)\u001b[0m\u001b[0;34m\u001b[0m\u001b[0m\n\u001b[0m\u001b[1;32m    949\u001b[0m \u001b[0;34m\u001b[0m\u001b[0m\n\u001b[1;32m    950\u001b[0m     \u001b[0;32mdef\u001b[0m \u001b[0m_execute_function\u001b[0m\u001b[0;34m(\u001b[0m\u001b[0mself\u001b[0m\u001b[0;34m,\u001b[0m \u001b[0mfunc\u001b[0m\u001b[0;34m,\u001b[0m \u001b[0mmultiparams\u001b[0m\u001b[0;34m,\u001b[0m \u001b[0mparams\u001b[0m\u001b[0;34m)\u001b[0m\u001b[0;34m:\u001b[0m\u001b[0;34m\u001b[0m\u001b[0m\n",
      "\u001b[0;32m/apps/jupyterhub/0.9.2/lib/python3.6/site-packages/sqlalchemy/sql/elements.py\u001b[0m in \u001b[0;36m_execute_on_connection\u001b[0;34m(self, connection, multiparams, params)\u001b[0m\n\u001b[1;32m    267\u001b[0m     \u001b[0;32mdef\u001b[0m \u001b[0m_execute_on_connection\u001b[0m\u001b[0;34m(\u001b[0m\u001b[0mself\u001b[0m\u001b[0;34m,\u001b[0m \u001b[0mconnection\u001b[0m\u001b[0;34m,\u001b[0m \u001b[0mmultiparams\u001b[0m\u001b[0;34m,\u001b[0m \u001b[0mparams\u001b[0m\u001b[0;34m)\u001b[0m\u001b[0;34m:\u001b[0m\u001b[0;34m\u001b[0m\u001b[0m\n\u001b[1;32m    268\u001b[0m         \u001b[0;32mif\u001b[0m \u001b[0mself\u001b[0m\u001b[0;34m.\u001b[0m\u001b[0msupports_execution\u001b[0m\u001b[0;34m:\u001b[0m\u001b[0;34m\u001b[0m\u001b[0m\n\u001b[0;32m--> 269\u001b[0;31m             \u001b[0;32mreturn\u001b[0m \u001b[0mconnection\u001b[0m\u001b[0;34m.\u001b[0m\u001b[0m_execute_clauseelement\u001b[0m\u001b[0;34m(\u001b[0m\u001b[0mself\u001b[0m\u001b[0;34m,\u001b[0m \u001b[0mmultiparams\u001b[0m\u001b[0;34m,\u001b[0m \u001b[0mparams\u001b[0m\u001b[0;34m)\u001b[0m\u001b[0;34m\u001b[0m\u001b[0m\n\u001b[0m\u001b[1;32m    270\u001b[0m         \u001b[0;32melse\u001b[0m\u001b[0;34m:\u001b[0m\u001b[0;34m\u001b[0m\u001b[0m\n\u001b[1;32m    271\u001b[0m             \u001b[0;32mraise\u001b[0m \u001b[0mexc\u001b[0m\u001b[0;34m.\u001b[0m\u001b[0mObjectNotExecutableError\u001b[0m\u001b[0;34m(\u001b[0m\u001b[0mself\u001b[0m\u001b[0;34m)\u001b[0m\u001b[0;34m\u001b[0m\u001b[0m\n",
      "\u001b[0;32m/apps/jupyterhub/0.9.2/lib/python3.6/site-packages/sqlalchemy/engine/base.py\u001b[0m in \u001b[0;36m_execute_clauseelement\u001b[0;34m(self, elem, multiparams, params)\u001b[0m\n\u001b[1;32m   1058\u001b[0m             \u001b[0mcompiled_sql\u001b[0m\u001b[0;34m,\u001b[0m\u001b[0;34m\u001b[0m\u001b[0m\n\u001b[1;32m   1059\u001b[0m             \u001b[0mdistilled_params\u001b[0m\u001b[0;34m,\u001b[0m\u001b[0;34m\u001b[0m\u001b[0m\n\u001b[0;32m-> 1060\u001b[0;31m             \u001b[0mcompiled_sql\u001b[0m\u001b[0;34m,\u001b[0m \u001b[0mdistilled_params\u001b[0m\u001b[0;34m\u001b[0m\u001b[0m\n\u001b[0m\u001b[1;32m   1061\u001b[0m         )\n\u001b[1;32m   1062\u001b[0m         \u001b[0;32mif\u001b[0m \u001b[0mself\u001b[0m\u001b[0;34m.\u001b[0m\u001b[0m_has_events\u001b[0m \u001b[0;32mor\u001b[0m \u001b[0mself\u001b[0m\u001b[0;34m.\u001b[0m\u001b[0mengine\u001b[0m\u001b[0;34m.\u001b[0m\u001b[0m_has_events\u001b[0m\u001b[0;34m:\u001b[0m\u001b[0;34m\u001b[0m\u001b[0m\n",
      "\u001b[0;32m/apps/jupyterhub/0.9.2/lib/python3.6/site-packages/sqlalchemy/engine/base.py\u001b[0m in \u001b[0;36m_execute_context\u001b[0;34m(self, dialect, constructor, statement, parameters, *args)\u001b[0m\n\u001b[1;32m   1198\u001b[0m                 \u001b[0mparameters\u001b[0m\u001b[0;34m,\u001b[0m\u001b[0;34m\u001b[0m\u001b[0m\n\u001b[1;32m   1199\u001b[0m                 \u001b[0mcursor\u001b[0m\u001b[0;34m,\u001b[0m\u001b[0;34m\u001b[0m\u001b[0m\n\u001b[0;32m-> 1200\u001b[0;31m                 context)\n\u001b[0m\u001b[1;32m   1201\u001b[0m \u001b[0;34m\u001b[0m\u001b[0m\n\u001b[1;32m   1202\u001b[0m         \u001b[0;32mif\u001b[0m \u001b[0mself\u001b[0m\u001b[0;34m.\u001b[0m\u001b[0m_has_events\u001b[0m \u001b[0;32mor\u001b[0m \u001b[0mself\u001b[0m\u001b[0;34m.\u001b[0m\u001b[0mengine\u001b[0m\u001b[0;34m.\u001b[0m\u001b[0m_has_events\u001b[0m\u001b[0;34m:\u001b[0m\u001b[0;34m\u001b[0m\u001b[0m\n",
      "\u001b[0;32m/apps/jupyterhub/0.9.2/lib/python3.6/site-packages/sqlalchemy/engine/base.py\u001b[0m in \u001b[0;36m_handle_dbapi_exception\u001b[0;34m(self, e, statement, parameters, cursor, context)\u001b[0m\n\u001b[1;32m   1411\u001b[0m                 util.raise_from_cause(\n\u001b[1;32m   1412\u001b[0m                     \u001b[0msqlalchemy_exception\u001b[0m\u001b[0;34m,\u001b[0m\u001b[0;34m\u001b[0m\u001b[0m\n\u001b[0;32m-> 1413\u001b[0;31m                     \u001b[0mexc_info\u001b[0m\u001b[0;34m\u001b[0m\u001b[0m\n\u001b[0m\u001b[1;32m   1414\u001b[0m                 )\n\u001b[1;32m   1415\u001b[0m             \u001b[0;32melse\u001b[0m\u001b[0;34m:\u001b[0m\u001b[0;34m\u001b[0m\u001b[0m\n",
      "\u001b[0;32m/apps/jupyterhub/0.9.2/lib/python3.6/site-packages/sqlalchemy/util/compat.py\u001b[0m in \u001b[0;36mraise_from_cause\u001b[0;34m(exception, exc_info)\u001b[0m\n\u001b[1;32m    263\u001b[0m     \u001b[0mexc_type\u001b[0m\u001b[0;34m,\u001b[0m \u001b[0mexc_value\u001b[0m\u001b[0;34m,\u001b[0m \u001b[0mexc_tb\u001b[0m \u001b[0;34m=\u001b[0m \u001b[0mexc_info\u001b[0m\u001b[0;34m\u001b[0m\u001b[0m\n\u001b[1;32m    264\u001b[0m     \u001b[0mcause\u001b[0m \u001b[0;34m=\u001b[0m \u001b[0mexc_value\u001b[0m \u001b[0;32mif\u001b[0m \u001b[0mexc_value\u001b[0m \u001b[0;32mis\u001b[0m \u001b[0;32mnot\u001b[0m \u001b[0mexception\u001b[0m \u001b[0;32melse\u001b[0m \u001b[0;32mNone\u001b[0m\u001b[0;34m\u001b[0m\u001b[0m\n\u001b[0;32m--> 265\u001b[0;31m     \u001b[0mreraise\u001b[0m\u001b[0;34m(\u001b[0m\u001b[0mtype\u001b[0m\u001b[0;34m(\u001b[0m\u001b[0mexception\u001b[0m\u001b[0;34m)\u001b[0m\u001b[0;34m,\u001b[0m \u001b[0mexception\u001b[0m\u001b[0;34m,\u001b[0m \u001b[0mtb\u001b[0m\u001b[0;34m=\u001b[0m\u001b[0mexc_tb\u001b[0m\u001b[0;34m,\u001b[0m \u001b[0mcause\u001b[0m\u001b[0;34m=\u001b[0m\u001b[0mcause\u001b[0m\u001b[0;34m)\u001b[0m\u001b[0;34m\u001b[0m\u001b[0m\n\u001b[0m\u001b[1;32m    266\u001b[0m \u001b[0;34m\u001b[0m\u001b[0m\n\u001b[1;32m    267\u001b[0m \u001b[0;32mif\u001b[0m \u001b[0mpy3k\u001b[0m\u001b[0;34m:\u001b[0m\u001b[0;34m\u001b[0m\u001b[0m\n",
      "\u001b[0;32m/apps/jupyterhub/0.9.2/lib/python3.6/site-packages/sqlalchemy/util/compat.py\u001b[0m in \u001b[0;36mreraise\u001b[0;34m(tp, value, tb, cause)\u001b[0m\n\u001b[1;32m    246\u001b[0m             \u001b[0mvalue\u001b[0m\u001b[0;34m.\u001b[0m\u001b[0m__cause__\u001b[0m \u001b[0;34m=\u001b[0m \u001b[0mcause\u001b[0m\u001b[0;34m\u001b[0m\u001b[0m\n\u001b[1;32m    247\u001b[0m         \u001b[0;32mif\u001b[0m \u001b[0mvalue\u001b[0m\u001b[0;34m.\u001b[0m\u001b[0m__traceback__\u001b[0m \u001b[0;32mis\u001b[0m \u001b[0;32mnot\u001b[0m \u001b[0mtb\u001b[0m\u001b[0;34m:\u001b[0m\u001b[0;34m\u001b[0m\u001b[0m\n\u001b[0;32m--> 248\u001b[0;31m             \u001b[0;32mraise\u001b[0m \u001b[0mvalue\u001b[0m\u001b[0;34m.\u001b[0m\u001b[0mwith_traceback\u001b[0m\u001b[0;34m(\u001b[0m\u001b[0mtb\u001b[0m\u001b[0;34m)\u001b[0m\u001b[0;34m\u001b[0m\u001b[0m\n\u001b[0m\u001b[1;32m    249\u001b[0m         \u001b[0;32mraise\u001b[0m \u001b[0mvalue\u001b[0m\u001b[0;34m\u001b[0m\u001b[0m\n\u001b[1;32m    250\u001b[0m \u001b[0;34m\u001b[0m\u001b[0m\n",
      "\u001b[0;32m/apps/jupyterhub/0.9.2/lib/python3.6/site-packages/sqlalchemy/engine/base.py\u001b[0m in \u001b[0;36m_execute_context\u001b[0;34m(self, dialect, constructor, statement, parameters, *args)\u001b[0m\n\u001b[1;32m   1191\u001b[0m                         \u001b[0mstatement\u001b[0m\u001b[0;34m,\u001b[0m\u001b[0;34m\u001b[0m\u001b[0m\n\u001b[1;32m   1192\u001b[0m                         \u001b[0mparameters\u001b[0m\u001b[0;34m,\u001b[0m\u001b[0;34m\u001b[0m\u001b[0m\n\u001b[0;32m-> 1193\u001b[0;31m                         context)\n\u001b[0m\u001b[1;32m   1194\u001b[0m         \u001b[0;32mexcept\u001b[0m \u001b[0mBaseException\u001b[0m \u001b[0;32mas\u001b[0m \u001b[0me\u001b[0m\u001b[0;34m:\u001b[0m\u001b[0;34m\u001b[0m\u001b[0m\n\u001b[1;32m   1195\u001b[0m             self._handle_dbapi_exception(\n",
      "\u001b[0;32m/apps/jupyterhub/0.9.2/lib/python3.6/site-packages/sqlalchemy/engine/default.py\u001b[0m in \u001b[0;36mdo_execute\u001b[0;34m(self, cursor, statement, parameters, context)\u001b[0m\n\u001b[1;32m    507\u001b[0m \u001b[0;34m\u001b[0m\u001b[0m\n\u001b[1;32m    508\u001b[0m     \u001b[0;32mdef\u001b[0m \u001b[0mdo_execute\u001b[0m\u001b[0;34m(\u001b[0m\u001b[0mself\u001b[0m\u001b[0;34m,\u001b[0m \u001b[0mcursor\u001b[0m\u001b[0;34m,\u001b[0m \u001b[0mstatement\u001b[0m\u001b[0;34m,\u001b[0m \u001b[0mparameters\u001b[0m\u001b[0;34m,\u001b[0m \u001b[0mcontext\u001b[0m\u001b[0;34m=\u001b[0m\u001b[0;32mNone\u001b[0m\u001b[0;34m)\u001b[0m\u001b[0;34m:\u001b[0m\u001b[0;34m\u001b[0m\u001b[0m\n\u001b[0;32m--> 509\u001b[0;31m         \u001b[0mcursor\u001b[0m\u001b[0;34m.\u001b[0m\u001b[0mexecute\u001b[0m\u001b[0;34m(\u001b[0m\u001b[0mstatement\u001b[0m\u001b[0;34m,\u001b[0m \u001b[0mparameters\u001b[0m\u001b[0;34m)\u001b[0m\u001b[0;34m\u001b[0m\u001b[0m\n\u001b[0m\u001b[1;32m    510\u001b[0m \u001b[0;34m\u001b[0m\u001b[0m\n\u001b[1;32m    511\u001b[0m     \u001b[0;32mdef\u001b[0m \u001b[0mdo_execute_no_params\u001b[0m\u001b[0;34m(\u001b[0m\u001b[0mself\u001b[0m\u001b[0;34m,\u001b[0m \u001b[0mcursor\u001b[0m\u001b[0;34m,\u001b[0m \u001b[0mstatement\u001b[0m\u001b[0;34m,\u001b[0m \u001b[0mcontext\u001b[0m\u001b[0;34m=\u001b[0m\u001b[0;32mNone\u001b[0m\u001b[0;34m)\u001b[0m\u001b[0;34m:\u001b[0m\u001b[0;34m\u001b[0m\u001b[0m\n",
      "\u001b[0;31mOperationalError\u001b[0m: (sqlite3.OperationalError) RIGHT and FULL OUTER JOINs are not currently supported [SQL: 'SELECT user.l_name, email_addr.email \\nFROM user FULL OUTER JOIN email_addr ON user.l_name = email_addr.name'] (Background on this error at: http://sqlalche.me/e/e3q8)"
     ]
    }
   ],
   "source": [
    "# Full join\n",
    "\n",
    "join_obj= user_t.join(email_t,\n",
    "                user_t.c.l_name == email_t.c.name, full=True)\n",
    "\n",
    "sel_st = select(\n",
    "   [user_t.c.l_name, email_t.c.email]).select_from(join_obj)\n",
    "\n",
    "res = conn.execute(sel_st)\n",
    "\n",
    "for _row in res:\n",
    "    print(_row)"
   ]
  },
  {
   "cell_type": "markdown",
   "metadata": {},
   "source": [
    "## Hmmm...RIGHT and FULL OUTER JOINs are not currently supported\n",
    "\n",
    "That's too bad.\n",
    "\n",
    "We can fake a RIGHT join by switching the order of tables..."
   ]
  },
  {
   "cell_type": "code",
   "execution_count": 14,
   "metadata": {},
   "outputs": [
    {
     "name": "stdout",
     "output_type": "stream",
     "text": [
      "('Smith', 'ker@test')\n",
      "('Lopez', 'yo@test')\n",
      "(None, 'fun@name')\n"
     ]
    }
   ],
   "source": [
    "# Cheating to make a right join...switch the tables around...\n",
    "\n",
    "join_obj= email_t.outerjoin(user_t,\n",
    "                user_t.c.l_name == email_t.c.name)\n",
    "\n",
    "sel_st = select(\n",
    "   [user_t.c.l_name, email_t.c.email]).select_from(join_obj)\n",
    "\n",
    "res = conn.execute(sel_st)\n",
    "\n",
    "for _row in res:\n",
    "    print(_row)"
   ]
  },
  {
   "cell_type": "markdown",
   "metadata": {},
   "source": [
    "This is actually what [this blog post](https://weblogs.sqlteam.com/jeffs/2007/04/19/full-outer-joins/) suggests doing for readability.\n",
    "\n",
    "There is also the question of why you would want a FULL JOIN...again, the above posts suggests against it.\n"
   ]
  },
  {
   "cell_type": "markdown",
   "metadata": {},
   "source": [
    "# Another but...\n",
    "\n",
    "In searching how to write JOINs in SQLAlchemy, you may have run across two (or more) methods of making SQL quries in the first place...\n",
    "\n",
    "Sometimes, you will find something line we have with `select`:\n",
    "\n",
    "```python\n",
    "sel_st = select([user_t.c.l_name, email_t.c.email]).where(user_t.c.l_name==email_t.c.name)\n",
    "```\n",
    "\n",
    "Sometimes, you will find something more like:\n",
    "\n",
    "```python\n",
    "s.query(Employee).filter(Employee.name.startswith(\"C\")).one().name\n",
    "```\n",
    "\n",
    "Turns out these are the difference between the SQL expression language and ORM. There's a good post on this [here](https://groups.google.com/forum/#!topic/sqlalchemy/IXins449qOo).\n"
   ]
  },
  {
   "cell_type": "markdown",
   "metadata": {},
   "source": [
    "# Another example using the world.sqlite database\n",
    "\n",
    "Let's look at another example of joins, using the ORM version of things with `query`.\n",
    "\n",
    "First we need to load the database:"
   ]
  },
  {
   "cell_type": "code",
   "execution_count": 41,
   "metadata": {},
   "outputs": [],
   "source": [
    "#!/usr/bin/env python\n",
    "from sqlalchemy import create_engine\n",
    "from sqlalchemy import MetaData\n",
    "from sqlalchemy import Table, Column\n",
    "from sqlalchemy import Integer, String\n",
    "from sqlalchemy import sql, select, join\n",
    "\n",
    "engine = create_engine('sqlite:///../data/world.sqlite')\n",
    "DBInfo=MetaData(engine)\n",
    "\n",
    "conn = engine.connect()\n",
    "\n",
    "city=Table('city', DBInfo, autoload=True)\n",
    "country=Table('country', DBInfo, autoload=True)\n",
    "countrylanguage=Table('countrylanguage', DBInfo, autoload=True)"
   ]
  },
  {
   "cell_type": "markdown",
   "metadata": {},
   "source": [
    "\n",
    "\n",
    "When we first looked at this data, we used this command as an example of a join in SQL:\n",
    "\n",
    "```sql\n",
    "sqlite> select Name,Language,Percentage FROM country JOIN countrylanguage ON Code=CountryCode WHERE Language='Portuguese' ORDER BY Percentage DESC;\n",
    "Name        Language    Percentage\n",
    "----------  ----------  ----------\n",
    "Portugal    Portuguese  99.0      \n",
    "Brazil      Portuguese  97.5      \n",
    "Luxembourg  Portuguese  13.0      \n",
    "Andorra     Portuguese  10.8      \n",
    "Guinea-Bis  Portuguese  8.1       \n",
    "Paraguay    Portuguese  3.2       \n",
    "Macao       Portuguese  2.3       \n",
    "France      Portuguese  1.2       \n",
    "Canada      Portuguese  0.7       \n",
    "United Sta  Portuguese  0.2       \n",
    "Cape Verde  Portuguese  0.0       \n",
    "East Timor  Portuguese  0.0       \n",
    "sqlite> \n",
    "```\n"
   ]
  },
  {
   "cell_type": "code",
   "execution_count": 42,
   "metadata": {},
   "outputs": [
    {
     "name": "stdout",
     "output_type": "stream",
     "text": [
      "('Andorra', 'Portuguese', Decimal('10.8000000000'))\n",
      "('Brazil', 'Portuguese', Decimal('97.5000000000'))\n",
      "('Canada', 'Portuguese', Decimal('0.7000000000'))\n",
      "('Cape Verde', 'Portuguese', Decimal('0E-10'))\n",
      "('France', 'Portuguese', Decimal('1.2000000000'))\n",
      "('Guinea-Bissau', 'Portuguese', Decimal('8.1000000000'))\n",
      "('Luxembourg', 'Portuguese', Decimal('13.0000000000'))\n",
      "('Macao', 'Portuguese', Decimal('2.3000000000'))\n",
      "('Portugal', 'Portuguese', Decimal('99.0000000000'))\n",
      "('Paraguay', 'Portuguese', Decimal('3.2000000000'))\n",
      "('East Timor', 'Portuguese', Decimal('0E-10'))\n",
      "('United States', 'Portuguese', Decimal('0.2000000000'))\n"
     ]
    }
   ],
   "source": [
    "# For the ORM query, we need a session:\n",
    "from sqlalchemy.orm import sessionmaker\n",
    "\n",
    "\n",
    "# create a configured \"Session\" class\n",
    "Session = sessionmaker(bind=engine)\n",
    "\n",
    "# create a Session\n",
    "session = Session()\n",
    "\n",
    "res = session.query(country.c.Name, countrylanguage.c.Language, \n",
    "                       countrylanguage.c.Percentage).join(countrylanguage).\\\n",
    "                    filter(countrylanguage.c.Language=='Portuguese')\n",
    "\n",
    "for _row in res:\n",
    "    print(_row)\n",
    "\n"
   ]
  },
  {
   "cell_type": "markdown",
   "metadata": {},
   "source": [
    "\n",
    "One thing to note that I discovered in debugging this--yes it took a couple of hours to write this--is that because there is only one foreign key between the tables, we don't need to specify country.c.Code==countrycode.c.CountryCode...SQLAlchemy knows to make this linkage.\n",
    "\n",
    "And using the SQL Expression select version..."
   ]
  },
  {
   "cell_type": "code",
   "execution_count": 43,
   "metadata": {},
   "outputs": [
    {
     "name": "stdout",
     "output_type": "stream",
     "text": [
      "('Andorra', 'Portuguese', Decimal('10.8000000000'))\n",
      "('Brazil', 'Portuguese', Decimal('97.5000000000'))\n",
      "('Canada', 'Portuguese', Decimal('0.7000000000'))\n",
      "('Cape Verde', 'Portuguese', Decimal('0E-10'))\n",
      "('France', 'Portuguese', Decimal('1.2000000000'))\n",
      "('Guinea-Bissau', 'Portuguese', Decimal('8.1000000000'))\n",
      "('Luxembourg', 'Portuguese', Decimal('13.0000000000'))\n",
      "('Macao', 'Portuguese', Decimal('2.3000000000'))\n",
      "('Portugal', 'Portuguese', Decimal('99.0000000000'))\n",
      "('Paraguay', 'Portuguese', Decimal('3.2000000000'))\n",
      "('East Timor', 'Portuguese', Decimal('0E-10'))\n",
      "('United States', 'Portuguese', Decimal('0.2000000000'))\n"
     ]
    }
   ],
   "source": [
    "# Outer join, same as above but using the isouter syntax\n",
    "\n",
    "join_obj= country.join(countrylanguage)\n",
    "\n",
    "sel_st = select([country.c.Name, countrylanguage.c.Language, \n",
    "                       countrylanguage.c.Percentage]).select_from(join_obj).where(countrylanguage.c.Language=='Portuguese')\n",
    "\n",
    "res = conn.execute(sel_st)\n",
    "\n",
    "for _row in res:\n",
    "    print(_row)\n"
   ]
  },
  {
   "cell_type": "code",
   "execution_count": null,
   "metadata": {},
   "outputs": [],
   "source": []
  }
 ],
 "metadata": {
  "kernelspec": {
   "display_name": "Python 3",
   "language": "python",
   "name": "python3"
  },
  "language_info": {
   "codemirror_mode": {
    "name": "ipython",
    "version": 3
   },
   "file_extension": ".py",
   "mimetype": "text/x-python",
   "name": "python",
   "nbconvert_exporter": "python",
   "pygments_lexer": "ipython3",
   "version": "3.6.3"
  }
 },
 "nbformat": 4,
 "nbformat_minor": 2
}
