{
 "cells": [
  {
   "cell_type": "markdown",
   "metadata": {},
   "source": [
    "# SQLAlchemy\n",
    "\n",
    "We'll start off using the world.sqlite database again.\n",
    "\n",
    "Rather than import all of sqlalchemy and then need to preface each method with the module name, we're importing a lot of individual methods."
   ]
  },
  {
   "cell_type": "code",
   "execution_count": 1,
   "metadata": {},
   "outputs": [],
   "source": [
    "#!/usr/bin/env python\n",
    "from sqlalchemy import create_engine\n",
    "from sqlalchemy import MetaData\n",
    "from sqlalchemy import Table, Column\n",
    "from sqlalchemy import Integer, String\n",
    "from sqlalchemy import sql, select, join, desc\n",
    "\n",
    "# Create a Engine object which is our handle into the database.\n",
    "engine = create_engine('sqlite:///../data/world.sqlite')\n",
    "\n",
    "# Connect to the database\n",
    "conn = engine.connect()\n",
    "\n",
    "# Read the metadata from the existing database.\n",
    "#  Since the database already exists and has tables defined, we can create Python objects based on these automatically.\n",
    "DBInfo=MetaData(engine)"
   ]
  },
  {
   "cell_type": "code",
   "execution_count": 2,
   "metadata": {},
   "outputs": [
    {
     "name": "stdout",
     "output_type": "stream",
     "text": [
      "(1, 'Kabul', 1780000)\n",
      "(2, 'Qandahar', 237500)\n",
      "(3, 'Herat', 186800)\n",
      "(4, 'Mazar-e-Sharif', 127800)\n",
      "(6, 'Rotterdam', 593321)\n",
      "(7, 'Haag', 440900)\n",
      "(8, 'Utrecht', 234323)\n",
      "(9, 'Eindhoven', 201843)\n",
      "(10, 'Tilburg', 193238)\n",
      "(11, 'Groningen', 172701)\n"
     ]
    }
   ],
   "source": [
    "# Auto-create the city object basedon the metadata read into the DBInfo.\n",
    "city=Table('city', DBInfo, autoload=True)\n",
    "\n",
    "# Mirroring this command: SELECT Id, Name, Population FROM city LIMIT 10;\n",
    "query=select([city.c.ID, city.c.Name, city.c.Population]).limit(10)\n",
    "result = conn.execute(query)\n",
    "for row in result:\n",
    "    print(row)"
   ]
  },
  {
   "cell_type": "code",
   "execution_count": 3,
   "metadata": {},
   "outputs": [
    {
     "name": "stdout",
     "output_type": "stream",
     "text": [
      "(206, 'S�o Paulo', 9968485)\n",
      "(207, 'Rio de Janeiro', 5598953)\n",
      "(456, 'London', 7285000)\n",
      "(608, 'Cairo', 6789479)\n",
      "(939, 'Jakarta', 9604900)\n",
      "(1024, 'Mumbai (Bombay)', 10500000)\n",
      "(1025, 'Delhi', 7206704)\n",
      "(1380, 'Teheran', 6758845)\n",
      "(1532, 'Tokyo', 7980230)\n",
      "(1890, 'Shanghai', 9696300)\n",
      "(1891, 'Peking', 7472000)\n",
      "(1892, 'Chongqing', 6351600)\n",
      "(1893, 'Tianjin', 5286800)\n",
      "(2257, 'Santaf� de Bogot�', 6260862)\n",
      "(2298, 'Kinshasa', 5064000)\n",
      "(2331, 'Seoul', 9981619)\n",
      "(2515, 'Ciudad de M�xico', 8591309)\n",
      "(2822, 'Karachi', 9269265)\n",
      "(2823, 'Lahore', 5063499)\n",
      "(2890, 'Lima', 6464693)\n",
      "(3320, 'Bangkok', 6320174)\n",
      "(3357, 'Istanbul', 8787958)\n",
      "(3580, 'Moscow', 8389200)\n",
      "(3793, 'New York', 8008278)\n"
     ]
    }
   ],
   "source": [
    "# Mirroring this command: SELECT Id, Name, Population FROM city WHERE Population > 5000000;\n",
    "\n",
    "query=select([city.c.ID, city.c.Name, city.c.Population]).where(city.c.Population > 5000000)\n",
    "result = conn.execute(query)\n",
    "for row in result:\n",
    "    print(row)"
   ]
  },
  {
   "cell_type": "code",
   "execution_count": 4,
   "metadata": {},
   "outputs": [
    {
     "name": "stdout",
     "output_type": "stream",
     "text": [
      "(1024, 'Mumbai (Bombay)', 10500000)\n",
      "(2331, 'Seoul', 9981619)\n",
      "(206, 'S�o Paulo', 9968485)\n",
      "(1890, 'Shanghai', 9696300)\n",
      "(939, 'Jakarta', 9604900)\n",
      "(2822, 'Karachi', 9269265)\n",
      "(3357, 'Istanbul', 8787958)\n",
      "(2515, 'Ciudad de M�xico', 8591309)\n",
      "(3580, 'Moscow', 8389200)\n",
      "(3793, 'New York', 8008278)\n"
     ]
    }
   ],
   "source": [
    "# Mirroring this command: \n",
    "#   SELECT Id, Name, Population FROM city WHERE Population > 5000000 ORDER BY Population DESC LIMIT 10;\n",
    "\n",
    "query=select([city.c.ID, city.c.Name, city.c.Population])\\\n",
    "             .where(city.c.Population > 5000000)\\\n",
    "             .order_by(desc(city.c.Population))\\\n",
    "             .limit(10)\n",
    "result = conn.execute(query)\n",
    "for row in result:\n",
    "    print(row)\n"
   ]
  }
 ],
 "metadata": {
  "kernelspec": {
   "display_name": "Python 3",
   "language": "python",
   "name": "python3"
  },
  "language_info": {
   "codemirror_mode": {
    "name": "ipython",
    "version": 3
   },
   "file_extension": ".py",
   "mimetype": "text/x-python",
   "name": "python",
   "nbconvert_exporter": "python",
   "pygments_lexer": "ipython3",
   "version": "3.6.3"
  }
 },
 "nbformat": 4,
 "nbformat_minor": 2
}
