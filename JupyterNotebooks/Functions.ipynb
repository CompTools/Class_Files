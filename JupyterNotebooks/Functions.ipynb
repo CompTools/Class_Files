{
 "cells": [
  {
   "cell_type": "markdown",
   "metadata": {},
   "source": [
    "# Python Functions\n",
    "\n",
    "Chapter 4 of Py4E goes into functions, starting by showing several functions we've already seen, like the type function to get a variable's type, the type conversion functions (`float(input)`), etc. \n",
    "\n",
    "Section 4.4 goes over the random function, which is part of the random module. Remember modules need to be imported to be used. And once imported, the functions that are part of a module can be called with the `module.function` format as in `random.random` in this case since both the module and function are called \"random\"."
   ]
  },
  {
   "cell_type": "code",
   "execution_count": 1,
   "metadata": {},
   "outputs": [
    {
     "name": "stdout",
     "output_type": "stream",
     "text": [
      "0.6390308035626808\n",
      "0.03118290929186307\n",
      "0.4924996245554245\n",
      "0.6464782041418751\n",
      "0.826405317057967\n",
      "0.6391934239266881\n",
      "0.5085031453800625\n",
      "0.8006841594955316\n",
      "0.9110540249862756\n",
      "0.7614702435578455\n"
     ]
    }
   ],
   "source": [
    "import random\n",
    "\n",
    "for i in range(10):\n",
    "    x = random.random() \n",
    "    print(x)"
   ]
  },
  {
   "cell_type": "markdown",
   "metadata": {},
   "source": [
    "In addition to the random function, the random module has randint and several other functions. \n",
    "\n",
    "**How would you find out about the functions in the random module?**"
   ]
  },
  {
   "cell_type": "markdown",
   "metadata": {},
   "source": [
    "## Section 4.6 Writing functions\n",
    "\n",
    "Just as in Bash, you can write your own functions."
   ]
  },
  {
   "cell_type": "code",
   "execution_count": 2,
   "metadata": {},
   "outputs": [
    {
     "name": "stdout",
     "output_type": "stream",
     "text": [
      "<function print_lyrics at 0x1034fc840>\n",
      "<class 'function'>\n",
      "I'm a lumberjack, and I'm okay.\n",
      "I sleep all night and I work all day.\n"
     ]
    }
   ],
   "source": [
    "def print_lyrics():\n",
    "    print(\"I'm a lumberjack, and I'm okay.\")\n",
    "    print('I sleep all night and I work all day.')\n",
    "print(print_lyrics)\n",
    "print(type(print_lyrics))  # print_lyrics is a variable of type function\n",
    "print_lyrics()"
   ]
  },
  {
   "cell_type": "code",
   "execution_count": 3,
   "metadata": {},
   "outputs": [
    {
     "name": "stdout",
     "output_type": "stream",
     "text": [
      "I'm a lumberjack, and I'm okay.\n",
      "I sleep all night and I work all day.\n",
      "I'm a lumberjack, and I'm okay.\n",
      "I sleep all night and I work all day.\n"
     ]
    }
   ],
   "source": [
    "def repeat_lyrics(): \n",
    "    print_lyrics() \n",
    "    print_lyrics()\n",
    "    \n",
    "repeat_lyrics()"
   ]
  },
  {
   "cell_type": "code",
   "execution_count": 4,
   "metadata": {},
   "outputs": [
    {
     "name": "stdout",
     "output_type": "stream",
     "text": [
      "Spam!\n",
      "Spam!\n"
     ]
    }
   ],
   "source": [
    "def print_twice(bruce): \n",
    "    print(bruce)\n",
    "    print(bruce)\n",
    "\n",
    "print_twice(\"Spam!\")"
   ]
  },
  {
   "cell_type": "code",
   "execution_count": 5,
   "metadata": {},
   "outputs": [
    {
     "name": "stdout",
     "output_type": "stream",
     "text": [
      "Eric, the half a bee.\n",
      "Eric, the half a bee.\n"
     ]
    }
   ],
   "source": [
    "michael = 'Eric, the half a bee.'\n",
    "print_twice(michael)"
   ]
  },
  {
   "cell_type": "markdown",
   "metadata": {},
   "source": [
    "## Section 4.10 Void and Fruitful functions\n",
    "\n",
    "Interesting names, but it is important to understand how functions behave.\n"
   ]
  },
  {
   "cell_type": "code",
   "execution_count": 6,
   "metadata": {},
   "outputs": [
    {
     "data": {
      "text/plain": [
       "2.23606797749979"
      ]
     },
     "execution_count": 6,
     "metadata": {},
     "output_type": "execute_result"
    }
   ],
   "source": [
    "import math\n",
    "\n",
    "math.sqrt(5)"
   ]
  },
  {
   "cell_type": "markdown",
   "metadata": {},
   "source": [
    "On the Pyton interactive prompt or in Juypter, we see the result of that function call--the square root of 5 is diplayed. But **in a script**, that number just dissapears unless we do something with it, like store it in a variable."
   ]
  },
  {
   "cell_type": "code",
   "execution_count": 7,
   "metadata": {},
   "outputs": [],
   "source": [
    "x=math.sqrt(5)"
   ]
  },
  {
   "cell_type": "markdown",
   "metadata": {},
   "source": [
    "Simlarly, while the `sqrt` function returns something, not all funcions return anything. So assigning the return value may give **None**"
   ]
  },
  {
   "cell_type": "code",
   "execution_count": 8,
   "metadata": {},
   "outputs": [
    {
     "name": "stdout",
     "output_type": "stream",
     "text": [
      "I'm a lumberjack, and I'm okay.\n",
      "I sleep all night and I work all day.\n",
      "_________________\n",
      "None\n"
     ]
    }
   ],
   "source": [
    "lyrics=print_lyrics()\n",
    "print (\"_________________\")\n",
    "print(lyrics)"
   ]
  },
  {
   "cell_type": "markdown",
   "metadata": {},
   "source": [
    "The first two lines are the output of calling the `print_lyrics` function. The variable lyrics however has the value of **None**."
   ]
  },
  {
   "cell_type": "markdown",
   "metadata": {},
   "source": [
    "To return something from a function, use the `return` statement."
   ]
  },
  {
   "cell_type": "code",
   "execution_count": 9,
   "metadata": {},
   "outputs": [
    {
     "name": "stdout",
     "output_type": "stream",
     "text": [
      "8\n"
     ]
    }
   ],
   "source": [
    "def addtwo(a, b): \n",
    "    added = a + b\n",
    "    return added \n",
    "\n",
    "x = addtwo(3, 5)\n",
    "print(x)"
   ]
  },
  {
   "cell_type": "markdown",
   "metadata": {},
   "source": [
    "## Section 4.11 Why Functions?\n",
    "This is summarized nicely by Py4E:\n",
    "\n",
    ">It may not be clear why it is worth the trouble to divide a program into functions. There are several reasons:\n",
    "* Creating a new function gives you an opportunity to name a group of state- ments, which makes your program easier to read, understand, and debug.\n",
    "* Functions can make a program smaller by eliminating repetitive code. Later, if you make a change, you only have to make it in one place.\n",
    "* Dividing a long program into functions allows you to debug the parts one at a time and then assemble them into a working whole.\n",
    "* Well-designed functions are often useful for many programs. Once you write and debug one, you can reuse it.\n"
   ]
  },
  {
   "cell_type": "markdown",
   "metadata": {},
   "source": [
    "## Your turn\n",
    "Work on any exercises you haven't finished up.\n",
    "Or try Exercises 5 & 6 in Ch 4."
   ]
  },
  {
   "cell_type": "code",
   "execution_count": null,
   "metadata": {},
   "outputs": [],
   "source": []
  }
 ],
 "metadata": {
  "kernelspec": {
   "display_name": "Python 3",
   "language": "python",
   "name": "python3"
  },
  "language_info": {
   "codemirror_mode": {
    "name": "ipython",
    "version": 3
   },
   "file_extension": ".py",
   "mimetype": "text/x-python",
   "name": "python",
   "nbconvert_exporter": "python",
   "pygments_lexer": "ipython3",
   "version": "3.6.3"
  }
 },
 "nbformat": 4,
 "nbformat_minor": 2
}
